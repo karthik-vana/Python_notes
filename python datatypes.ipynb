{
  "nbformat": 4,
  "nbformat_minor": 0,
  "metadata": {
    "colab": {
      "provenance": [],
      "authorship_tag": "ABX9TyMV15G68dtIXDliF14dG/Xp",
      "include_colab_link": true
    },
    "kernelspec": {
      "name": "python3",
      "display_name": "Python 3"
    },
    "language_info": {
      "name": "python"
    }
  },
  "cells": [
    {
      "cell_type": "markdown",
      "metadata": {
        "id": "view-in-github",
        "colab_type": "text"
      },
      "source": [
        "<a href=\"https://colab.research.google.com/github/karthik-vana/Python_notes/blob/main/python%20datatypes.ipynb\" target=\"_parent\"><img src=\"https://colab.research.google.com/assets/colab-badge.svg\" alt=\"Open In Colab\"/></a>"
      ]
    },
    {
      "cell_type": "markdown",
      "source": [
        "***Python datatypes***\n",
        "--------------------\n",
        "-there are mainly three datatypes in python\n",
        "\n",
        "1.int-whole numbers\n",
        "\n",
        "2.float-decimal values\n",
        "\n",
        "3.string(str)-any values closed inbetween quotes"
      ],
      "metadata": {
        "id": "xdL3PtG_VxyW"
      }
    },
    {
      "cell_type": "code",
      "execution_count": 2,
      "metadata": {
        "colab": {
          "base_uri": "https://localhost:8080/",
          "height": 35
        },
        "id": "_kk9ZStP0wZ1",
        "outputId": "f74a5c04-1c8f-499e-ad2c-d1225e22f132"
      },
      "outputs": [
        {
          "output_type": "execute_result",
          "data": {
            "text/plain": [
              "'karthik'"
            ],
            "application/vnd.google.colaboratory.intrinsic+json": {
              "type": "string"
            }
          },
          "metadata": {},
          "execution_count": 2
        }
      ],
      "source": [
        "#ex:int\n",
        "12\n",
        "#ex:float\n",
        "12.00\n",
        "#ex:str\n",
        "'karthik'\n"
      ]
    },
    {
      "cell_type": "markdown",
      "source": [
        "**variables**\n",
        "-------------\n",
        "-if you want to use the data type later for other reasons to save the data type:\n",
        "\n",
        "-so to save data types in the memory we have concept called \"variaables\""
      ],
      "metadata": {
        "id": "di6MdTmPXK-N"
      }
    },
    {
      "cell_type": "code",
      "source": [
        "#int\n",
        "a = 24 #save in the memeory\n",
        "a + 10"
      ],
      "metadata": {
        "id": "kesTsrCn02r9",
        "outputId": "8eeb09a4-dfe6-4f0b-fa9e-592d3fff81e9",
        "colab": {
          "base_uri": "https://localhost:8080/"
        }
      },
      "execution_count": 7,
      "outputs": [
        {
          "output_type": "execute_result",
          "data": {
            "text/plain": [
              "34"
            ]
          },
          "metadata": {},
          "execution_count": 7
        }
      ]
    },
    {
      "cell_type": "code",
      "source": [
        "#float\n",
        "a = 24.00\n",
        "a + 10"
      ],
      "metadata": {
        "id": "jbHS6QgQX8z-",
        "outputId": "adb7544d-2fd7-488b-dcf2-03cea534fb16",
        "colab": {
          "base_uri": "https://localhost:8080/"
        }
      },
      "execution_count": 6,
      "outputs": [
        {
          "output_type": "execute_result",
          "data": {
            "text/plain": [
              "34.0"
            ]
          },
          "metadata": {},
          "execution_count": 6
        }
      ]
    },
    {
      "cell_type": "code",
      "source": [
        "#string\n",
        "a = 'karthik'#save in the memory\n",
        "a + 'vana'"
      ],
      "metadata": {
        "id": "kSFWsZMvYm2k",
        "outputId": "6ec3a31d-2357-4fc9-ffb6-fff8eec948bc",
        "colab": {
          "base_uri": "https://localhost:8080/",
          "height": 35
        }
      },
      "execution_count": 10,
      "outputs": [
        {
          "output_type": "execute_result",
          "data": {
            "text/plain": [
              "'karthikvana'"
            ],
            "application/vnd.google.colaboratory.intrinsic+json": {
              "type": "string"
            }
          },
          "metadata": {},
          "execution_count": 10
        }
      ]
    },
    {
      "cell_type": "markdown",
      "source": [
        "**memory storage**\n",
        "-----------------\n",
        "-inter--> 4 bytes of memory\n",
        "\n",
        "-float-->4 bytes of memory\n",
        "\n",
        "-string--> each character 1 byte of memory\n",
        "\n",
        "**print comments**\n",
        "-print comment calling from the  memory which value is stored for that particular variable"
      ],
      "metadata": {
        "id": "zMZdjnIuZUDv"
      }
    },
    {
      "cell_type": "code",
      "source": [
        "a = 12 #save in the memory\n",
        "print(a) #calling from the memory"
      ],
      "metadata": {
        "id": "9VaIF5vwZEAV",
        "outputId": "49fd24cb-cbf2-441d-9a8b-9903f895cb8f",
        "colab": {
          "base_uri": "https://localhost:8080/"
        }
      },
      "execution_count": 11,
      "outputs": [
        {
          "output_type": "stream",
          "name": "stdout",
          "text": [
            "12\n"
          ]
        }
      ]
    },
    {
      "cell_type": "code",
      "source": [
        "a = 10\n",
        "print(a+10) # appear on the output\n",
        "print(a-10)"
      ],
      "metadata": {
        "id": "XMEruxKOYvwm",
        "outputId": "c81cc508-28bd-41c9-feef-dceb534366fa",
        "colab": {
          "base_uri": "https://localhost:8080/"
        }
      },
      "execution_count": 14,
      "outputs": [
        {
          "output_type": "stream",
          "name": "stdout",
          "text": [
            "20\n",
            "0\n"
          ]
        }
      ]
    },
    {
      "cell_type": "code",
      "source": [
        "a = 20 #save in the memory\n",
        "a = a + 10\n",
        "print(a) #calling from memory"
      ],
      "metadata": {
        "id": "qCzLaefebbX9",
        "outputId": "54f822a1-8063-4efc-8fdf-79e9d7702bc6",
        "colab": {
          "base_uri": "https://localhost:8080/"
        }
      },
      "execution_count": 15,
      "outputs": [
        {
          "output_type": "stream",
          "name": "stdout",
          "text": [
            "30\n"
          ]
        }
      ]
    },
    {
      "cell_type": "markdown",
      "source": [
        "** built in funtion **\n",
        "--------------------------\n",
        "'ID'-used to know stored variable address in the memory"
      ],
      "metadata": {
        "id": "lPuMjRb0cfiF"
      }
    },
    {
      "cell_type": "code",
      "source": [
        "a = 20 #save in the memory\n",
        "print(a) #calling\n",
        "print(id(a))"
      ],
      "metadata": {
        "id": "8X0AC9BbcUj_",
        "outputId": "f0b5aae0-2ce7-4065-f50d-9626ebf80e4e",
        "colab": {
          "base_uri": "https://localhost:8080/"
        }
      },
      "execution_count": 16,
      "outputs": [
        {
          "output_type": "stream",
          "name": "stdout",
          "text": [
            "20\n",
            "11642696\n"
          ]
        }
      ]
    },
    {
      "cell_type": "code",
      "source": [
        "a = 30\n",
        "print(a)\n",
        "print(id(a)) #finding the address in the memory"
      ],
      "metadata": {
        "id": "BjHMbKkcdQnB",
        "outputId": "a1e77a89-987f-45fd-b122-580c1c7bf8cc",
        "colab": {
          "base_uri": "https://localhost:8080/"
        }
      },
      "execution_count": 17,
      "outputs": [
        {
          "output_type": "stream",
          "name": "stdout",
          "text": [
            "30\n",
            "11643016\n"
          ]
        }
      ]
    },
    {
      "cell_type": "markdown",
      "source": [
        "**rules to create a variable**\n",
        "\n",
        "1.first rule-variable should not start with a number,if we want start use with underscore\n",
        "\n",
        "2.second rule- variables should be single character or single word and multiple words and characters are not allowed as variable\n",
        "\n",
        "3.third rule- python variables are case sensitive [small & capital latters]\n",
        "\n",
        "4.fourth rule- don't use below punctuations as a variable\n",
        "[!'\"$%^&*()+-:;\"'{\\?.,^~?//]\n"
      ],
      "metadata": {
        "id": "A6z3dX_GeBCr"
      }
    },
    {
      "cell_type": "code",
      "source": [
        "# rule-1\n",
        "10a = 20\n",
        "print(10a)"
      ],
      "metadata": {
        "id": "ZZrbPUnRdquG",
        "outputId": "6654e371-bb20-41f1-c122-ab7c56644b20",
        "colab": {
          "base_uri": "https://localhost:8080/",
          "height": 106
        }
      },
      "execution_count": 20,
      "outputs": [
        {
          "output_type": "error",
          "ename": "SyntaxError",
          "evalue": "invalid decimal literal (ipython-input-737744730.py, line 2)",
          "traceback": [
            "\u001b[0;36m  File \u001b[0;32m\"/tmp/ipython-input-737744730.py\"\u001b[0;36m, line \u001b[0;32m2\u001b[0m\n\u001b[0;31m    10a = 20\u001b[0m\n\u001b[0m     ^\u001b[0m\n\u001b[0;31mSyntaxError\u001b[0m\u001b[0;31m:\u001b[0m invalid decimal literal\n"
          ]
        }
      ]
    },
    {
      "cell_type": "code",
      "source": [
        "_10a= 20\n",
        "print(_10a)"
      ],
      "metadata": {
        "id": "H0OhmNEvg-U0",
        "outputId": "4270b2b2-db28-470f-d8a7-3a7e7964c341",
        "colab": {
          "base_uri": "https://localhost:8080/"
        }
      },
      "execution_count": 19,
      "outputs": [
        {
          "output_type": "stream",
          "name": "stdout",
          "text": [
            "20\n"
          ]
        }
      ]
    },
    {
      "cell_type": "code",
      "source": [
        "# Rule no -2\n",
        "sai kumar = 16"
      ],
      "metadata": {
        "id": "q9fWia2ei7Bm",
        "outputId": "75e27af6-b72f-4844-eebb-db0019e9a1f9",
        "colab": {
          "base_uri": "https://localhost:8080/",
          "height": 106
        }
      },
      "execution_count": 21,
      "outputs": [
        {
          "output_type": "error",
          "ename": "SyntaxError",
          "evalue": "invalid syntax (ipython-input-3656931976.py, line 2)",
          "traceback": [
            "\u001b[0;36m  File \u001b[0;32m\"/tmp/ipython-input-3656931976.py\"\u001b[0;36m, line \u001b[0;32m2\u001b[0m\n\u001b[0;31m    sai kumar = 16\u001b[0m\n\u001b[0m        ^\u001b[0m\n\u001b[0;31mSyntaxError\u001b[0m\u001b[0;31m:\u001b[0m invalid syntax\n"
          ]
        }
      ]
    },
    {
      "cell_type": "code",
      "source": [
        "sai_kumar = 16"
      ],
      "metadata": {
        "id": "rt-LFh9GjMoy"
      },
      "execution_count": 22,
      "outputs": []
    },
    {
      "cell_type": "code",
      "source": [
        "#Rule no-3\n",
        "city  = 'hyd'\n",
        "print(CITY)\n"
      ],
      "metadata": {
        "id": "4Tg0PczgjQ3Z",
        "outputId": "cfd3bcfe-7da4-4caf-bea0-e15dbca82286",
        "colab": {
          "base_uri": "https://localhost:8080/",
          "height": 176
        }
      },
      "execution_count": 23,
      "outputs": [
        {
          "output_type": "error",
          "ename": "NameError",
          "evalue": "name 'CITY' is not defined",
          "traceback": [
            "\u001b[0;31m---------------------------------------------------------------------------\u001b[0m",
            "\u001b[0;31mNameError\u001b[0m                                 Traceback (most recent call last)",
            "\u001b[0;32m/tmp/ipython-input-3052234900.py\u001b[0m in \u001b[0;36m<cell line: 0>\u001b[0;34m()\u001b[0m\n\u001b[1;32m      1\u001b[0m \u001b[0;31m#Rule no-3\u001b[0m\u001b[0;34m\u001b[0m\u001b[0;34m\u001b[0m\u001b[0m\n\u001b[1;32m      2\u001b[0m \u001b[0mcity\u001b[0m  \u001b[0;34m=\u001b[0m \u001b[0;34m'hyd'\u001b[0m\u001b[0;34m\u001b[0m\u001b[0;34m\u001b[0m\u001b[0m\n\u001b[0;32m----> 3\u001b[0;31m \u001b[0mprint\u001b[0m\u001b[0;34m(\u001b[0m\u001b[0mCITY\u001b[0m\u001b[0;34m)\u001b[0m\u001b[0;34m\u001b[0m\u001b[0;34m\u001b[0m\u001b[0m\n\u001b[0m",
            "\u001b[0;31mNameError\u001b[0m: name 'CITY' is not defined"
          ]
        }
      ]
    },
    {
      "cell_type": "code",
      "source": [
        "city ='hyd'\n",
        "print(city)"
      ],
      "metadata": {
        "id": "7D3ui2O1jdKO",
        "outputId": "8a3c7a51-834a-4da0-d6ab-0368238bf1e0",
        "colab": {
          "base_uri": "https://localhost:8080/"
        }
      },
      "execution_count": 24,
      "outputs": [
        {
          "output_type": "stream",
          "name": "stdout",
          "text": [
            "hyd\n"
          ]
        }
      ]
    },
    {
      "cell_type": "code",
      "source": [
        "# Rule no -4\n",
        "$ = 20\n",
        "print($)"
      ],
      "metadata": {
        "id": "HkvzX26ljj4n",
        "outputId": "dee0f027-8c39-4ea6-e3f1-3f5f34b517c5",
        "colab": {
          "base_uri": "https://localhost:8080/",
          "height": 106
        }
      },
      "execution_count": 25,
      "outputs": [
        {
          "output_type": "error",
          "ename": "SyntaxError",
          "evalue": "invalid syntax (ipython-input-3623941756.py, line 2)",
          "traceback": [
            "\u001b[0;36m  File \u001b[0;32m\"/tmp/ipython-input-3623941756.py\"\u001b[0;36m, line \u001b[0;32m2\u001b[0m\n\u001b[0;31m    $ = 20\u001b[0m\n\u001b[0m    ^\u001b[0m\n\u001b[0;31mSyntaxError\u001b[0m\u001b[0;31m:\u001b[0m invalid syntax\n"
          ]
        }
      ]
    },
    {
      "cell_type": "code",
      "source": [],
      "metadata": {
        "id": "oCeK0dxqjtf-"
      },
      "execution_count": null,
      "outputs": []
    }
  ]
}