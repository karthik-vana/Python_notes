{
  "nbformat": 4,
  "nbformat_minor": 0,
  "metadata": {
    "colab": {
      "provenance": [],
      "authorship_tag": "ABX9TyOLmjiRCNywWU3Cz/CFUql0",
      "include_colab_link": true
    },
    "kernelspec": {
      "name": "python3",
      "display_name": "Python 3"
    },
    "language_info": {
      "name": "python"
    }
  },
  "cells": [
    {
      "cell_type": "markdown",
      "metadata": {
        "id": "view-in-github",
        "colab_type": "text"
      },
      "source": [
        "<a href=\"https://colab.research.google.com/github/karthik-vana/Python_notes/blob/main/control_statements_%26_conditional_statements.ipynb\" target=\"_parent\"><img src=\"https://colab.research.google.com/assets/colab-badge.svg\" alt=\"Open In Colab\"/></a>"
      ]
    },
    {
      "cell_type": "markdown",
      "source": [
        "**control statements**\n",
        "\n",
        "- `for loop`\n",
        "- `while loop `\n",
        "\n",
        "**conditional statements**\n",
        "\n",
        "- `if`\n",
        "- `else`\n",
        "- `elif`\n",
        "- `break`"
      ],
      "metadata": {
        "id": "k1q7LewxNvZi"
      }
    },
    {
      "cell_type": "markdown",
      "source": [
        "**for loop syntax**\n",
        "\n",
        "- `for <var> in range(sp,ep): `\n",
        "\n",
        "        - logic here"
      ],
      "metadata": {
        "id": "U_e_HJXBQFMI"
      }
    },
    {
      "cell_type": "code",
      "execution_count": null,
      "metadata": {
        "colab": {
          "base_uri": "https://localhost:8080/"
        },
        "id": "4_9QiRu1NfGz",
        "outputId": "bb08b264-47d9-48fe-cdc8-147ae43545aa"
      },
      "outputs": [
        {
          "output_type": "stream",
          "name": "stdout",
          "text": [
            "good mornging\n",
            "good mornging\n",
            "good mornging\n",
            "good mornging\n",
            "good mornging\n"
          ]
        }
      ],
      "source": [
        "for i  in range(11,16):\n",
        " print(\"good mornging\")\n",
        "\n"
      ]
    },
    {
      "cell_type": "code",
      "source": [
        "for k in range (21,25):\n",
        "  print(f'namaste :{k}')"
      ],
      "metadata": {
        "colab": {
          "base_uri": "https://localhost:8080/"
        },
        "id": "WvQrwy9ERF9Y",
        "outputId": "8a8cb433-d472-4bb0-9d88-23304e4db435"
      },
      "execution_count": null,
      "outputs": [
        {
          "output_type": "stream",
          "name": "stdout",
          "text": [
            "namaste :21\n",
            "namaste :22\n",
            "namaste :23\n",
            "namaste :24\n"
          ]
        }
      ]
    },
    {
      "cell_type": "code",
      "source": [
        "print('i am from hyderabad')\n",
        "print('i am from chennai')\n",
        "for p in range(11,15):\n",
        "  t = 10\n",
        "  print(t+100)\n",
        "  print('ds')\n",
        "print('i am from dubai')\n",
        "print('Ai')"
      ],
      "metadata": {
        "colab": {
          "base_uri": "https://localhost:8080/"
        },
        "id": "Zl1ZWdmDRX8w",
        "outputId": "fa53858f-02d3-4997-9236-51f59225d23e"
      },
      "execution_count": null,
      "outputs": [
        {
          "output_type": "stream",
          "name": "stdout",
          "text": [
            "i am from hyderabad\n",
            "i am from chennai\n",
            "110\n",
            "ds\n",
            "110\n",
            "ds\n",
            "110\n",
            "ds\n",
            "110\n",
            "ds\n",
            "i am from dubai\n",
            "Ai\n"
          ]
        }
      ]
    },
    {
      "cell_type": "code",
      "source": [
        "for i in range(21,25):\n",
        "  print(i)"
      ],
      "metadata": {
        "colab": {
          "base_uri": "https://localhost:8080/"
        },
        "id": "ZG_y1Y5_n1ZO",
        "outputId": "dbb67b30-62f5-4e19-8cf0-c3dac85ee045"
      },
      "execution_count": null,
      "outputs": [
        {
          "output_type": "stream",
          "name": "stdout",
          "text": [
            "21\n",
            "22\n",
            "23\n",
            "24\n"
          ]
        }
      ]
    },
    {
      "cell_type": "code",
      "source": [
        "for i in range(5):\n",
        "  print(i)"
      ],
      "metadata": {
        "colab": {
          "base_uri": "https://localhost:8080/"
        },
        "id": "3g5LKlqyoisb",
        "outputId": "9869094e-f649-4f19-ea47-373e6bffc79e"
      },
      "execution_count": null,
      "outputs": [
        {
          "output_type": "stream",
          "name": "stdout",
          "text": [
            "0\n",
            "1\n",
            "2\n",
            "3\n",
            "4\n"
          ]
        }
      ]
    },
    {
      "cell_type": "code",
      "source": [
        "for k in range(11,15):\n",
        " print(k)\n",
        "print('karthik')"
      ],
      "metadata": {
        "colab": {
          "base_uri": "https://localhost:8080/"
        },
        "id": "7mArVvOTo0yy",
        "outputId": "a8a9208c-f10f-456c-f84f-c392585f9dcd"
      },
      "execution_count": null,
      "outputs": [
        {
          "output_type": "stream",
          "name": "stdout",
          "text": [
            "11\n",
            "12\n",
            "13\n",
            "14\n",
            "karthik\n"
          ]
        }
      ]
    },
    {
      "cell_type": "code",
      "source": [
        "for k in range(11,15):\n",
        "  pass\n",
        "print('car')"
      ],
      "metadata": {
        "colab": {
          "base_uri": "https://localhost:8080/"
        },
        "id": "XDT9OppApU6R",
        "outputId": "9561b11d-cac9-4946-9fc4-72f09c065860"
      },
      "execution_count": null,
      "outputs": [
        {
          "output_type": "stream",
          "name": "stdout",
          "text": [
            "car\n"
          ]
        }
      ]
    },
    {
      "cell_type": "code",
      "source": [
        "for i in range (11,14):\n",
        "  print('a',i)\n",
        "  print('b',i)\n",
        "  print('c',i)"
      ],
      "metadata": {
        "colab": {
          "base_uri": "https://localhost:8080/"
        },
        "id": "UD35UAwfp3Wk",
        "outputId": "12e6d20f-7930-42a5-d91d-65f3373a08d2"
      },
      "execution_count": null,
      "outputs": [
        {
          "output_type": "stream",
          "name": "stdout",
          "text": [
            "a 11\n",
            "b 11\n",
            "c 11\n",
            "a 12\n",
            "b 12\n",
            "c 12\n",
            "a 13\n",
            "b 13\n",
            "c 13\n"
          ]
        }
      ]
    },
    {
      "cell_type": "markdown",
      "source": [
        "**nested loops**"
      ],
      "metadata": {
        "id": "aSLHK3Dqrcec"
      }
    },
    {
      "cell_type": "code",
      "source": [
        "for i in range(11,15):\n",
        "  print('hello ds')\n",
        "  for j in range(21,24):\n",
        "    for k in range(51,55):\n",
        "      print(i,j,k)\n",
        ""
      ],
      "metadata": {
        "id": "BzRLOu0tqR1p",
        "colab": {
          "base_uri": "https://localhost:8080/"
        },
        "outputId": "64da37f7-a463-425b-f4c1-5dfaa81ddb15"
      },
      "execution_count": 3,
      "outputs": [
        {
          "output_type": "stream",
          "name": "stdout",
          "text": [
            "hello ds\n",
            "11 21 51\n",
            "11 21 52\n",
            "11 21 53\n",
            "11 21 54\n",
            "11 22 51\n",
            "11 22 52\n",
            "11 22 53\n",
            "11 22 54\n",
            "11 23 51\n",
            "11 23 52\n",
            "11 23 53\n",
            "11 23 54\n",
            "hello ds\n",
            "12 21 51\n",
            "12 21 52\n",
            "12 21 53\n",
            "12 21 54\n",
            "12 22 51\n",
            "12 22 52\n",
            "12 22 53\n",
            "12 22 54\n",
            "12 23 51\n",
            "12 23 52\n",
            "12 23 53\n",
            "12 23 54\n",
            "hello ds\n",
            "13 21 51\n",
            "13 21 52\n",
            "13 21 53\n",
            "13 21 54\n",
            "13 22 51\n",
            "13 22 52\n",
            "13 22 53\n",
            "13 22 54\n",
            "13 23 51\n",
            "13 23 52\n",
            "13 23 53\n",
            "13 23 54\n",
            "hello ds\n",
            "14 21 51\n",
            "14 21 52\n",
            "14 21 53\n",
            "14 21 54\n",
            "14 22 51\n",
            "14 22 52\n",
            "14 22 53\n",
            "14 22 54\n",
            "14 23 51\n",
            "14 23 52\n",
            "14 23 53\n",
            "14 23 54\n"
          ]
        }
      ]
    },
    {
      "cell_type": "code",
      "source": [
        "for i in range(1,6):\n",
        "  print(i, end = ' ')"
      ],
      "metadata": {
        "colab": {
          "base_uri": "https://localhost:8080/"
        },
        "id": "VWTAjI0KAJwC",
        "outputId": "88eb6acc-9683-4577-8d8b-2c5bc6d327dc"
      },
      "execution_count": 4,
      "outputs": [
        {
          "output_type": "stream",
          "name": "stdout",
          "text": [
            "1 2 3 4 5 "
          ]
        }
      ]
    },
    {
      "cell_type": "code",
      "source": [
        "for i in range(1,6):\n",
        "  print(i, end = '->')"
      ],
      "metadata": {
        "colab": {
          "base_uri": "https://localhost:8080/"
        },
        "id": "vVXnUScoCOs2",
        "outputId": "0bb5ff0c-d8a3-4a3d-885b-418c3a83ac14"
      },
      "execution_count": 5,
      "outputs": [
        {
          "output_type": "stream",
          "name": "stdout",
          "text": [
            "1->2->3->4->5->"
          ]
        }
      ]
    },
    {
      "cell_type": "code",
      "source": [
        "for i in range(11,14):\n",
        "  for j in range(21,26):\n",
        "    print('x',end = ' ')\n",
        "  print()"
      ],
      "metadata": {
        "colab": {
          "base_uri": "https://localhost:8080/"
        },
        "id": "-COcscXlCVMZ",
        "outputId": "72195e1e-47fd-4162-ad63-dd0246fa0bf8"
      },
      "execution_count": 6,
      "outputs": [
        {
          "output_type": "stream",
          "name": "stdout",
          "text": [
            "x x x x x \n",
            "x x x x x \n",
            "x x x x x \n"
          ]
        }
      ]
    },
    {
      "cell_type": "markdown",
      "source": [
        "# **if / else conditions**"
      ],
      "metadata": {
        "id": "0xf5arRDD1tw"
      }
    },
    {
      "cell_type": "code",
      "source": [
        "money = 20000\n",
        "iphone = 90000\n",
        "if money > iphone:\n",
        "  print('i can buy a iphone mobile')\n",
        "else:\n",
        "  print('i dont have enough money to  buy')\n",
        "\n"
      ],
      "metadata": {
        "colab": {
          "base_uri": "https://localhost:8080/"
        },
        "id": "ZccnrN07Cmxl",
        "outputId": "20fcb595-7e18-4988-94e0-38c41f55b649"
      },
      "execution_count": 8,
      "outputs": [
        {
          "output_type": "stream",
          "name": "stdout",
          "text": [
            "i dont have enough money to  buy\n"
          ]
        }
      ]
    },
    {
      "cell_type": "markdown",
      "source": [
        "# **elif conditions**"
      ],
      "metadata": {
        "id": "Kg8ISm7sFldi"
      }
    },
    {
      "cell_type": "code",
      "source": [
        "money = 20000\n",
        "iphone = 90000\n",
        "samsung = 50000\n",
        "vivo = 30000\n",
        "if money > iphone:\n",
        "  print('i can buy iphone')\n",
        "elif money > samsung:\n",
        "  print('i can buy samsung')\n",
        "elif money > vivo:\n",
        "  print('i can buy vivo')\n",
        "else:\n",
        "  print('i dont have enough money')"
      ],
      "metadata": {
        "colab": {
          "base_uri": "https://localhost:8080/"
        },
        "id": "LXFjVMcbE3E5",
        "outputId": "d54f1f97-d990-4454-9ecf-e03533835ac4"
      },
      "execution_count": 9,
      "outputs": [
        {
          "output_type": "stream",
          "name": "stdout",
          "text": [
            "i dont have enough money\n"
          ]
        }
      ]
    },
    {
      "cell_type": "code",
      "source": [
        "money = 200000\n",
        "iphone = 90000\n",
        "samsung = 50000\n",
        "vivo = 30000\n",
        "if money > iphone:\n",
        "  print('i can buy iphone')\n",
        "elif money > samsung:\n",
        "  print('i can buy samsung')\n",
        "elif money > vivo:\n",
        "  print('i can buy vivo')\n",
        "else:\n",
        "  print('i dont have enough money')"
      ],
      "metadata": {
        "colab": {
          "base_uri": "https://localhost:8080/"
        },
        "id": "PZv9MkBcG21u",
        "outputId": "9d5977e0-8d0c-42e2-dac3-16d5aaea775c"
      },
      "execution_count": 10,
      "outputs": [
        {
          "output_type": "stream",
          "name": "stdout",
          "text": [
            "i can buy iphone\n"
          ]
        }
      ]
    },
    {
      "cell_type": "code",
      "source": [
        "money = 60000\n",
        "iphone = 90000\n",
        "samsung = 50000\n",
        "vivo = 30000\n",
        "if money > iphone:\n",
        "  print('i can buy iphone')\n",
        "elif money > samsung:\n",
        "  print('i can buy samsung')\n",
        "elif money > vivo:\n",
        "  print('i can buy vivo')\n",
        "else:\n",
        "  print('i dont have enough money')"
      ],
      "metadata": {
        "colab": {
          "base_uri": "https://localhost:8080/"
        },
        "id": "drfyKngFG-cF",
        "outputId": "c1abfcfe-80c0-4eb9-a128-34c0e66f7075"
      },
      "execution_count": 11,
      "outputs": [
        {
          "output_type": "stream",
          "name": "stdout",
          "text": [
            "i can buy samsung\n"
          ]
        }
      ]
    },
    {
      "cell_type": "code",
      "source": [
        "#finding the even numbers\n",
        "for i in range(10,20):\n",
        "  if i % 2 == 0:\n",
        "    print(f'even :{i}',end = ' ')\n",
        "  else:\n",
        "    print(f'odd :{i}')"
      ],
      "metadata": {
        "colab": {
          "base_uri": "https://localhost:8080/"
        },
        "id": "bW1Qw8CBHEMQ",
        "outputId": "5c9f9ffa-acc4-4001-fdca-3d621b75efec"
      },
      "execution_count": 19,
      "outputs": [
        {
          "output_type": "stream",
          "name": "stdout",
          "text": [
            "even :10 odd :11\n",
            "even :12 odd :13\n",
            "even :14 odd :15\n",
            "even :16 odd :17\n",
            "even :18 odd :19\n"
          ]
        }
      ]
    },
    {
      "cell_type": "code",
      "source": [
        "#factorial numbers\n",
        "n = 5\n",
        "t = 1\n",
        "\n",
        "for i in range (1,n+1):\n",
        "  t = t * i\n",
        "print(t)\n",
        "\n"
      ],
      "metadata": {
        "colab": {
          "base_uri": "https://localhost:8080/"
        },
        "id": "GEacxaLMHyeb",
        "outputId": "4660ce7e-f361-4c9a-e552-f354507bdb26"
      },
      "execution_count": 32,
      "outputs": [
        {
          "output_type": "stream",
          "name": "stdout",
          "text": [
            "120\n"
          ]
        }
      ]
    },
    {
      "cell_type": "code",
      "source": [
        "n = 5\n",
        "t = 0\n",
        "for i in range(1,n+1):\n",
        "  t = t + i\n",
        "  print(t)"
      ],
      "metadata": {
        "colab": {
          "base_uri": "https://localhost:8080/"
        },
        "id": "aAHPPi6DN0Em",
        "outputId": "ba6dc258-00a4-42d8-fc7e-42732bf9aa96"
      },
      "execution_count": 33,
      "outputs": [
        {
          "output_type": "stream",
          "name": "stdout",
          "text": [
            "1\n",
            "3\n",
            "6\n",
            "10\n",
            "15\n"
          ]
        }
      ]
    },
    {
      "cell_type": "code",
      "source": [
        "#finding number is a perfect or not:\n",
        "n = 6\n",
        "t = 0\n",
        "for i in range(1,n):\n",
        "  if n % i == 0:\n",
        "    t = t + i\n",
        "if t == n:\n",
        "\n",
        "  print(f'{n} is a perfect number')\n",
        "\n",
        "else:\n",
        "  print(f'{n} is not a perfect number')\n",
        "\n",
        "\n"
      ],
      "metadata": {
        "colab": {
          "base_uri": "https://localhost:8080/"
        },
        "id": "r8s2waBPR4US",
        "outputId": "b4b04f20-f3e7-482a-8bdc-b806950374b1"
      },
      "execution_count": 43,
      "outputs": [
        {
          "output_type": "stream",
          "name": "stdout",
          "text": [
            "6\n",
            "6 is a perfect number\n"
          ]
        }
      ]
    },
    {
      "cell_type": "code",
      "source": [
        "n = 8\n",
        "t = 0\n",
        "for i in range(1,n):\n",
        "  if n % i == 0:\n",
        "    t = t + i\n",
        "    print(t)\n",
        "\n",
        "if t == n:\n",
        "  print(f'{n} is perfect')\n",
        "else:\n",
        "  print(f'{n} is not perfect')\n"
      ],
      "metadata": {
        "colab": {
          "base_uri": "https://localhost:8080/"
        },
        "id": "0iBwyWAjUfn-",
        "outputId": "e547996a-ea3a-4e3a-82e1-3eebe05c6955"
      },
      "execution_count": 46,
      "outputs": [
        {
          "output_type": "stream",
          "name": "stdout",
          "text": [
            "1\n",
            "3\n",
            "7\n",
            "8 is not perfect\n"
          ]
        }
      ]
    },
    {
      "cell_type": "code",
      "source": [
        "#iterate two differncce\n",
        "n = 5\n",
        "r = 3\n",
        "for i in range(n):\n",
        "  print(r * i)"
      ],
      "metadata": {
        "colab": {
          "base_uri": "https://localhost:8080/"
        },
        "id": "K25Aw6MlX5YC",
        "outputId": "036b95d4-2b9e-4e19-e635-d111f5d5e47f"
      },
      "execution_count": 48,
      "outputs": [
        {
          "output_type": "stream",
          "name": "stdout",
          "text": [
            "0\n",
            "3\n",
            "6\n",
            "9\n",
            "12\n"
          ]
        }
      ]
    },
    {
      "cell_type": "code",
      "source": [],
      "metadata": {
        "id": "1xcg_qb4ZvVG"
      },
      "execution_count": null,
      "outputs": []
    }
  ]
}