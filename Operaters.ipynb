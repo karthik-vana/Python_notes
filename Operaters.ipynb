{
  "nbformat": 4,
  "nbformat_minor": 0,
  "metadata": {
    "colab": {
      "provenance": [],
      "authorship_tag": "ABX9TyOYJqgp5FS9siL+JOgU0hDt",
      "include_colab_link": true
    },
    "kernelspec": {
      "name": "python3",
      "display_name": "Python 3"
    },
    "language_info": {
      "name": "python"
    }
  },
  "cells": [
    {
      "cell_type": "markdown",
      "metadata": {
        "id": "view-in-github",
        "colab_type": "text"
      },
      "source": [
        "<a href=\"https://colab.research.google.com/github/karthik-vana/Python_notes/blob/main/Operaters.ipynb\" target=\"_parent\"><img src=\"https://colab.research.google.com/assets/colab-badge.svg\" alt=\"Open In Colab\"/></a>"
      ]
    },
    {
      "cell_type": "markdown",
      "source": [
        "**python operaters**\n",
        "---------------------\n",
        "1.Arithmetic operaters[+,-,*,/,//,%,**]\n",
        "\n",
        "2.assignment opertors[+=,-=,*=,/=,//=,%=,**=\n",
        "]\n",
        "\n",
        "3.comparison operators[==,!=,>,<,>=,<=]\n",
        "\n",
        "4.logical operators['and' & 'or' & 'Not' gate]\n",
        "\n",
        "5.identity operators\n",
        "\n",
        "6.membership operators\n",
        "\n",
        "7.bitwise operators"
      ],
      "metadata": {
        "id": "X0AUnH72lOGJ"
      }
    },
    {
      "cell_type": "code",
      "execution_count": null,
      "metadata": {
        "colab": {
          "base_uri": "https://localhost:8080/"
        },
        "id": "-buvlaczlEUc",
        "outputId": "75223dce-4822-4cd8-96dd-0977293617da"
      },
      "outputs": [
        {
          "output_type": "stream",
          "name": "stdout",
          "text": [
            "30\n",
            "10\n",
            "200\n",
            "2.0\n",
            "2\n",
            "0\n",
            "10240000000000\n"
          ]
        }
      ],
      "source": [
        "#1.arithmetic operators\n",
        "x =  20\n",
        "y = 10\n",
        "print(x + y)\n",
        "print(x - y)\n",
        "print(x * y)\n",
        "print(x / y)\n",
        "print(x // y)\n",
        "print(x % y)\n",
        "print(x ** y)\n"
      ]
    },
    {
      "cell_type": "code",
      "source": [
        "# assignment operators\n",
        "x = 10\n",
        "x +=5\n",
        "print(x)\n"
      ],
      "metadata": {
        "colab": {
          "base_uri": "https://localhost:8080/"
        },
        "id": "guMx0iz8nMjp",
        "outputId": "90a8915a-282c-4659-a0cd-81bc7dda4a26"
      },
      "execution_count": null,
      "outputs": [
        {
          "output_type": "stream",
          "name": "stdout",
          "text": [
            "15\n"
          ]
        }
      ]
    },
    {
      "cell_type": "code",
      "source": [
        "x = 20\n",
        "x -=5\n",
        "print(x)"
      ],
      "metadata": {
        "colab": {
          "base_uri": "https://localhost:8080/"
        },
        "id": "xx48pGaTpQ8X",
        "outputId": "4a882b2e-ef2a-4ca1-fd10-90cc9f8e6989"
      },
      "execution_count": null,
      "outputs": [
        {
          "output_type": "stream",
          "name": "stdout",
          "text": [
            "15\n"
          ]
        }
      ]
    },
    {
      "cell_type": "code",
      "source": [
        "x = 20\n",
        "x *=5\n",
        "print(x)"
      ],
      "metadata": {
        "colab": {
          "base_uri": "https://localhost:8080/"
        },
        "id": "tuShjck_pceR",
        "outputId": "7450c599-f0c3-4223-b7b5-eacb9f2cbcef"
      },
      "execution_count": null,
      "outputs": [
        {
          "output_type": "stream",
          "name": "stdout",
          "text": [
            "100\n"
          ]
        }
      ]
    },
    {
      "cell_type": "code",
      "source": [
        "x = 20\n",
        "x /=5\n",
        "print(x)"
      ],
      "metadata": {
        "colab": {
          "base_uri": "https://localhost:8080/"
        },
        "id": "6OEJ-cYXpcJB",
        "outputId": "d9de4c3c-2b9f-4f53-e7d2-c101793b8bc1"
      },
      "execution_count": null,
      "outputs": [
        {
          "output_type": "stream",
          "name": "stdout",
          "text": [
            "4.0\n"
          ]
        }
      ]
    },
    {
      "cell_type": "code",
      "source": [
        "x = 20\n",
        "x //=5\n",
        "print(x)"
      ],
      "metadata": {
        "colab": {
          "base_uri": "https://localhost:8080/"
        },
        "id": "31bmkZ2_pbqm",
        "outputId": "5a0ce988-1301-46f6-b012-edfeedf443e5"
      },
      "execution_count": null,
      "outputs": [
        {
          "output_type": "stream",
          "name": "stdout",
          "text": [
            "4\n"
          ]
        }
      ]
    },
    {
      "cell_type": "code",
      "source": [
        "x = 20\n",
        "x %=5\n",
        "print(x)"
      ],
      "metadata": {
        "colab": {
          "base_uri": "https://localhost:8080/"
        },
        "id": "LBjmeyKApxc6",
        "outputId": "60283e56-75d6-4ca6-9da7-7b3cb9433fdf"
      },
      "execution_count": null,
      "outputs": [
        {
          "output_type": "stream",
          "name": "stdout",
          "text": [
            "0\n"
          ]
        }
      ]
    },
    {
      "cell_type": "code",
      "source": [
        "x =  20\n",
        "x **=5\n",
        "print(x)"
      ],
      "metadata": {
        "colab": {
          "base_uri": "https://localhost:8080/"
        },
        "id": "OTc2oxoyp44t",
        "outputId": "07dc5b00-ef10-4c11-e7e4-569d083bec12"
      },
      "execution_count": null,
      "outputs": [
        {
          "output_type": "stream",
          "name": "stdout",
          "text": [
            "3200000\n"
          ]
        }
      ]
    },
    {
      "cell_type": "code",
      "source": [
        "#comparison operators\n",
        "x = 20\n",
        "y = 10\n",
        "print(x == y)\n",
        "print(x != y)\n",
        "print(x > y)\n",
        "print(x < y)\n",
        "print(x >= y)\n",
        "print(x <= y)"
      ],
      "metadata": {
        "colab": {
          "base_uri": "https://localhost:8080/"
        },
        "id": "KV688dXLp6FV",
        "outputId": "36055ef4-3b5e-43dd-e419-f57ff4574952"
      },
      "execution_count": null,
      "outputs": [
        {
          "output_type": "stream",
          "name": "stdout",
          "text": [
            "False\n",
            "True\n",
            "True\n",
            "False\n",
            "True\n",
            "False\n"
          ]
        }
      ]
    },
    {
      "cell_type": "code",
      "source": [
        "#logical opertors\n",
        "x = 10\n",
        "y = 5\n",
        "print(x > 5 or y < 5)\n",
        "# in 'or' gate one condition is true then it's true\n",
        "#if both conditions are false then only false"
      ],
      "metadata": {
        "colab": {
          "base_uri": "https://localhost:8080/"
        },
        "id": "IfEgurBJp6B6",
        "outputId": "b4fe00ea-78b7-4972-caa5-56c8e29bd1b8"
      },
      "execution_count": null,
      "outputs": [
        {
          "output_type": "stream",
          "name": "stdout",
          "text": [
            "True\n"
          ]
        }
      ]
    },
    {
      "cell_type": "code",
      "source": [
        "x = 10\n",
        "y =5\n",
        "print(x > 5 and y < 10)\n",
        "#in 'and' gate both condition are true then it's true\n",
        "#if single condition is false then it is false"
      ],
      "metadata": {
        "colab": {
          "base_uri": "https://localhost:8080/"
        },
        "id": "KtQaCK3prFx_",
        "outputId": "91ca1c74-72fa-42cf-fd90-56b2ade6ed25"
      },
      "execution_count": null,
      "outputs": [
        {
          "output_type": "stream",
          "name": "stdout",
          "text": [
            "True\n"
          ]
        }
      ]
    },
    {
      "cell_type": "code",
      "source": [
        "x =10\n",
        "y = 5\n",
        "print(not(x > 5 and y < 10))\n",
        "#returns false because 'Not' is used to reverse the result"
      ],
      "metadata": {
        "colab": {
          "base_uri": "https://localhost:8080/"
        },
        "id": "IhRIv6OOrFgV",
        "outputId": "11c3a8fa-37b0-4ab1-a1f4-f37239926da9"
      },
      "execution_count": null,
      "outputs": [
        {
          "output_type": "stream",
          "name": "stdout",
          "text": [
            "False\n"
          ]
        }
      ]
    },
    {
      "cell_type": "code",
      "source": [],
      "metadata": {
        "id": "p7jR9zgKrFc8"
      },
      "execution_count": null,
      "outputs": []
    }
  ]
}