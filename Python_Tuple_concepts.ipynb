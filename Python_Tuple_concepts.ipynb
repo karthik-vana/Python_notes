{
  "nbformat": 4,
  "nbformat_minor": 0,
  "metadata": {
    "colab": {
      "provenance": [],
      "authorship_tag": "ABX9TyPLiXCcqPOMvBsKmxla3z9g",
      "include_colab_link": true
    },
    "kernelspec": {
      "name": "python3",
      "display_name": "Python 3"
    },
    "language_info": {
      "name": "python"
    }
  },
  "cells": [
    {
      "cell_type": "markdown",
      "metadata": {
        "id": "view-in-github",
        "colab_type": "text"
      },
      "source": [
        "<a href=\"https://colab.research.google.com/github/karthik-vana/Python_notes/blob/main/Python_Tuple_concepts.ipynb\" target=\"_parent\"><img src=\"https://colab.research.google.com/assets/colab-badge.svg\" alt=\"Open In Colab\"/></a>"
      ]
    },
    {
      "cell_type": "markdown",
      "source": [
        "# **Python- tuples**\n",
        "\n",
        "**tuple**\n",
        "\n",
        "-tuple is used to store multiple values by using round brackets '()'\n",
        "\n",
        "-tuple is one of the 4 in-built data types,the other are list[],set{},dictionary{}\n",
        "\n",
        "-tuple is collection which is ordered & unchangeable"
      ],
      "metadata": {
        "id": "JtYUNrw7QPVD"
      }
    },
    {
      "cell_type": "code",
      "execution_count": 1,
      "metadata": {
        "colab": {
          "base_uri": "https://localhost:8080/"
        },
        "id": "Qx3h-lo9P_Bl",
        "outputId": "f61e3118-623f-4bdb-f430-2528631e78d0"
      },
      "outputs": [
        {
          "output_type": "stream",
          "name": "stdout",
          "text": [
            "('shirt', 'pant', 'belt', 'shoes', 'spects')\n"
          ]
        }
      ],
      "source": [
        "#example\n",
        "# creating a tuple\n",
        "tuple  = ('shirt','pant','belt','shoes','spects')\n",
        "print(tuple)"
      ]
    },
    {
      "cell_type": "markdown",
      "source": [
        "**tuple items**\n",
        "\n",
        "-tuple items are 'ordered,'unchangeable' & allow duplicates\n",
        "\n",
        "-tuple items are indexed,the first item has index [0],the secomd starts with index{1}"
      ],
      "metadata": {
        "id": "qfDZJM0mSU3q"
      }
    },
    {
      "cell_type": "markdown",
      "source": [
        "**ordered**\n",
        "\n",
        "-tuple have defined ordered,it means that the items will not change  "
      ],
      "metadata": {
        "id": "BmS8stTtS_fo"
      }
    },
    {
      "cell_type": "markdown",
      "source": [
        "**unchangeable**\n",
        "\n",
        "-tuples are unchangeable,it means that we cannot change,add,remove items after the tuple has been created"
      ],
      "metadata": {
        "id": "PM0JfBwAUFA_"
      }
    },
    {
      "cell_type": "code",
      "source": [
        "#example\n",
        "x =  ('shirt','pant','belt','shoes','spects')\n",
        "x[1] = 'jacket'\n",
        "print(x)"
      ],
      "metadata": {
        "colab": {
          "base_uri": "https://localhost:8080/",
          "height": 193
        },
        "id": "41QI2Kv0SN8W",
        "outputId": "16143a49-2ffa-4a24-8311-f8ae74d982bd"
      },
      "execution_count": 3,
      "outputs": [
        {
          "output_type": "error",
          "ename": "TypeError",
          "evalue": "'tuple' object does not support item assignment",
          "traceback": [
            "\u001b[0;31m---------------------------------------------------------------------------\u001b[0m",
            "\u001b[0;31mTypeError\u001b[0m                                 Traceback (most recent call last)",
            "\u001b[0;32m/tmp/ipython-input-177055495.py\u001b[0m in \u001b[0;36m<cell line: 0>\u001b[0;34m()\u001b[0m\n\u001b[1;32m      1\u001b[0m \u001b[0;31m#example\u001b[0m\u001b[0;34m\u001b[0m\u001b[0;34m\u001b[0m\u001b[0m\n\u001b[1;32m      2\u001b[0m \u001b[0mx\u001b[0m \u001b[0;34m=\u001b[0m  \u001b[0;34m(\u001b[0m\u001b[0;34m'shirt'\u001b[0m\u001b[0;34m,\u001b[0m\u001b[0;34m'pant'\u001b[0m\u001b[0;34m,\u001b[0m\u001b[0;34m'belt'\u001b[0m\u001b[0;34m,\u001b[0m\u001b[0;34m'shoes'\u001b[0m\u001b[0;34m,\u001b[0m\u001b[0;34m'spects'\u001b[0m\u001b[0;34m)\u001b[0m\u001b[0;34m\u001b[0m\u001b[0;34m\u001b[0m\u001b[0m\n\u001b[0;32m----> 3\u001b[0;31m \u001b[0mx\u001b[0m\u001b[0;34m[\u001b[0m\u001b[0;36m1\u001b[0m\u001b[0;34m]\u001b[0m \u001b[0;34m=\u001b[0m \u001b[0;34m'jacket'\u001b[0m\u001b[0;34m\u001b[0m\u001b[0;34m\u001b[0m\u001b[0m\n\u001b[0m\u001b[1;32m      4\u001b[0m \u001b[0mprint\u001b[0m\u001b[0;34m(\u001b[0m\u001b[0mx\u001b[0m\u001b[0;34m)\u001b[0m\u001b[0;34m\u001b[0m\u001b[0;34m\u001b[0m\u001b[0m\n",
            "\u001b[0;31mTypeError\u001b[0m: 'tuple' object does not support item assignment"
          ]
        }
      ]
    },
    {
      "cell_type": "markdown",
      "source": [
        "**Allow duplicates**\n",
        "\n",
        "-since tuples are indexed,they can have items with same value"
      ],
      "metadata": {
        "id": "j8VnbevdUsxm"
      }
    },
    {
      "cell_type": "code",
      "source": [
        "#example\n",
        "states = ('andhra','telangana','andhra','kerala','kerala')\n",
        "print(states)"
      ],
      "metadata": {
        "colab": {
          "base_uri": "https://localhost:8080/"
        },
        "id": "5i6g0z-KTnnZ",
        "outputId": "2d9a92b8-af34-4657-8047-6e637e2b9b92"
      },
      "execution_count": 4,
      "outputs": [
        {
          "output_type": "stream",
          "name": "stdout",
          "text": [
            "('andhra', 'telangana', 'andhra', 'kerala', 'kerala')\n"
          ]
        }
      ]
    },
    {
      "cell_type": "markdown",
      "source": [
        "**tuple length**\n",
        "\n",
        "-by using,len() funtion can determine how items in a tuple"
      ],
      "metadata": {
        "id": "tDQg9r8vVbFI"
      }
    },
    {
      "cell_type": "code",
      "source": [
        "#example\n",
        "states = ('andhra','telangana','andhra','kerala','kerala')\n",
        "print(len(states))"
      ],
      "metadata": {
        "colab": {
          "base_uri": "https://localhost:8080/"
        },
        "id": "Xw4zCH-jVPnt",
        "outputId": "6c42395c-4394-43f1-cb08-ead8fb4a4e5e"
      },
      "execution_count": 8,
      "outputs": [
        {
          "output_type": "stream",
          "name": "stdout",
          "text": [
            "5\n"
          ]
        }
      ]
    },
    {
      "cell_type": "markdown",
      "source": [
        "**tuple items - data types **\n",
        "\n",
        "-tuple items can be any data types int,float,str,bool"
      ],
      "metadata": {
        "id": "3T6Kd9R0XQE8"
      }
    },
    {
      "cell_type": "code",
      "source": [
        "tuple = ('karthik',2.2,10,True)\n",
        "print(tuple)"
      ],
      "metadata": {
        "colab": {
          "base_uri": "https://localhost:8080/"
        },
        "id": "hHRfA9qZWxF4",
        "outputId": "7b203896-314a-4d77-ad37-ea9d1af30c68"
      },
      "execution_count": 10,
      "outputs": [
        {
          "output_type": "stream",
          "name": "stdout",
          "text": [
            "('karthik', 2.2, 10, True)\n"
          ]
        }
      ]
    },
    {
      "cell_type": "markdown",
      "source": [
        "# **Python - Access tuple items**\n",
        "\n",
        "**Access tuple items**\n",
        "\n",
        "-we can refer tuple items by refering to the index number,inside 'square brackects[]'\n",
        "\n",
        "-'negative indexing' means start from the end.-1 refers to last item ,-2 refers to second last item"
      ],
      "metadata": {
        "id": "3O2eZV-0a1y2"
      }
    },
    {
      "cell_type": "code",
      "source": [
        "T = (10,20,40,3,5,5)\n",
        "print(T[1])"
      ],
      "metadata": {
        "colab": {
          "base_uri": "https://localhost:8080/"
        },
        "id": "bdr1f3-IaS0F",
        "outputId": "4719db05-455e-4367-b3f9-2ac39e70b6eb"
      },
      "execution_count": 19,
      "outputs": [
        {
          "output_type": "stream",
          "name": "stdout",
          "text": [
            "20\n"
          ]
        }
      ]
    },
    {
      "cell_type": "code",
      "source": [
        "#negative indexing\n",
        "T = (10,20,40,3,5,5)\n",
        "print(T[-1])"
      ],
      "metadata": {
        "colab": {
          "base_uri": "https://localhost:8080/"
        },
        "id": "K2YilkIZbrYH",
        "outputId": "66e658c5-0877-4e27-f298-01c566b863ce"
      },
      "execution_count": 18,
      "outputs": [
        {
          "output_type": "stream",
          "name": "stdout",
          "text": [
            "5\n"
          ]
        }
      ]
    },
    {
      "cell_type": "markdown",
      "source": [
        "**range of indexes**\n",
        "\n",
        "-you can specify a range of indexes by specifying where to start & end\n",
        "\n",
        "-note:- when specifying a range ,the return value will be new tuple with specified items"
      ],
      "metadata": {
        "id": "KzZtheJRclU_"
      }
    },
    {
      "cell_type": "code",
      "source": [
        "#example\n",
        "T = ('shirt','pant','belt','shoes','spects')\n",
        "print(T[1:4])"
      ],
      "metadata": {
        "colab": {
          "base_uri": "https://localhost:8080/"
        },
        "id": "UUwAMFgRcURY",
        "outputId": "23e90f9e-73e8-4486-80ea-7892a02bcd06"
      },
      "execution_count": 21,
      "outputs": [
        {
          "output_type": "stream",
          "name": "stdout",
          "text": [
            "('pant', 'belt', 'shoes')\n"
          ]
        }
      ]
    },
    {
      "cell_type": "code",
      "source": [
        "#example\n",
        "T = ('shirt','pant','belt','shoes','spects')\n",
        "print(T[:4])"
      ],
      "metadata": {
        "colab": {
          "base_uri": "https://localhost:8080/"
        },
        "id": "Qx663HePdX6B",
        "outputId": "9f46f4fa-b683-461b-ccc7-ee03745d87eb"
      },
      "execution_count": 22,
      "outputs": [
        {
          "output_type": "stream",
          "name": "stdout",
          "text": [
            "('shirt', 'pant', 'belt', 'shoes')\n"
          ]
        }
      ]
    },
    {
      "cell_type": "markdown",
      "source": [
        "**range  of negative indexes**\n",
        "\n",
        "-specify negative indexes if you want to start search from the end of the tuple"
      ],
      "metadata": {
        "id": "EAMsGHdad2NP"
      }
    },
    {
      "cell_type": "code",
      "source": [
        "t = (1,3,5,6,2,5,2,25)\n",
        "print(t[-4:-1])"
      ],
      "metadata": {
        "colab": {
          "base_uri": "https://localhost:8080/"
        },
        "id": "mzf7vb4gduNL",
        "outputId": "377dccc4-b437-49a1-a852-08ff85cf2c88"
      },
      "execution_count": 25,
      "outputs": [
        {
          "output_type": "stream",
          "name": "stdout",
          "text": [
            "(2, 5, 2)\n"
          ]
        }
      ]
    },
    {
      "cell_type": "markdown",
      "source": [
        "**check if item exits**\n",
        "\n",
        "-to determine if a specified item is present in a tuple or not"
      ],
      "metadata": {
        "id": "P5G8kBVJgEbP"
      }
    },
    {
      "cell_type": "code",
      "source": [
        "T = ('shirt','pant','shoes','belt')\n",
        "if 'belt' in T:\n",
        "  print('yes,belt is present')"
      ],
      "metadata": {
        "colab": {
          "base_uri": "https://localhost:8080/"
        },
        "id": "YJ1Xyq1MeZni",
        "outputId": "02df99b5-2a03-4d64-ca53-8f7052a9d490"
      },
      "execution_count": 27,
      "outputs": [
        {
          "output_type": "stream",
          "name": "stdout",
          "text": [
            "yes,belt is present\n"
          ]
        }
      ]
    },
    {
      "cell_type": "markdown",
      "source": [
        "# **Python - update tuples**\n",
        "\n",
        "-tuple are unchangeable,it means we cannot change,add,remove items in the tuple\n",
        "\n"
      ],
      "metadata": {
        "id": "Rd8mCGSsn1jA"
      }
    },
    {
      "cell_type": "markdown",
      "source": [
        "**change tuple values**\n",
        "\n",
        "-once a tuple is created,you cannot change its values.tuples are unchangeable,or imutable\n",
        "\n",
        "-but there is a chance .you can convert the tuple into a list,change the list and convert the back into tuple\n"
      ],
      "metadata": {
        "id": "FFKPb5WopApT"
      }
    },
    {
      "cell_type": "code",
      "source": [
        "x = (\"apple\", \"banana\", \"cherry\")\n",
        "y = list(x)\n",
        "y[1] = \"kiwi\"\n",
        "x = tuple(y)\n",
        "\n",
        "print(x)"
      ],
      "metadata": {
        "id": "eIfr8PUPtL5n"
      },
      "execution_count": null,
      "outputs": []
    },
    {
      "cell_type": "markdown",
      "source": [
        "**Add items **\n",
        "\n",
        "-since tuple  are immutable ,they donn't built-in funtions to add items to atuple\n",
        "\n",
        "-convert tuple to list first,after we can add items to list & again change the list into tuple"
      ],
      "metadata": {
        "id": "hfgFnOmAuFiP"
      }
    },
    {
      "cell_type": "code",
      "source": [
        "x = (1,3,5,2,12)\n",
        "y = list(x)\n",
        "y.append('100')\n",
        "x = tuple(y)\n",
        "print(x)"
      ],
      "metadata": {
        "colab": {
          "base_uri": "https://localhost:8080/",
          "height": 193
        },
        "id": "I_d6MLdaxC2h",
        "outputId": "4d8ddf64-8b41-4fb6-80e5-d678ae88a401"
      },
      "execution_count": 31,
      "outputs": [
        {
          "output_type": "error",
          "ename": "TypeError",
          "evalue": "'tuple' object is not callable",
          "traceback": [
            "\u001b[0;31m---------------------------------------------------------------------------\u001b[0m",
            "\u001b[0;31mTypeError\u001b[0m                                 Traceback (most recent call last)",
            "\u001b[0;32m/tmp/ipython-input-3554942392.py\u001b[0m in \u001b[0;36m<cell line: 0>\u001b[0;34m()\u001b[0m\n\u001b[1;32m      2\u001b[0m \u001b[0my\u001b[0m \u001b[0;34m=\u001b[0m \u001b[0mlist\u001b[0m\u001b[0;34m(\u001b[0m\u001b[0mx\u001b[0m\u001b[0;34m)\u001b[0m\u001b[0;34m\u001b[0m\u001b[0;34m\u001b[0m\u001b[0m\n\u001b[1;32m      3\u001b[0m \u001b[0my\u001b[0m\u001b[0;34m.\u001b[0m\u001b[0mappend\u001b[0m\u001b[0;34m(\u001b[0m\u001b[0;34m'100'\u001b[0m\u001b[0;34m)\u001b[0m\u001b[0;34m\u001b[0m\u001b[0;34m\u001b[0m\u001b[0m\n\u001b[0;32m----> 4\u001b[0;31m \u001b[0mx\u001b[0m \u001b[0;34m=\u001b[0m \u001b[0mtuple\u001b[0m\u001b[0;34m(\u001b[0m\u001b[0my\u001b[0m\u001b[0;34m)\u001b[0m\u001b[0;34m\u001b[0m\u001b[0;34m\u001b[0m\u001b[0m\n\u001b[0m\u001b[1;32m      5\u001b[0m \u001b[0mprint\u001b[0m\u001b[0;34m(\u001b[0m\u001b[0my\u001b[0m\u001b[0;34m)\u001b[0m\u001b[0;34m\u001b[0m\u001b[0;34m\u001b[0m\u001b[0m\n",
            "\u001b[0;31mTypeError\u001b[0m: 'tuple' object is not callable"
          ]
        }
      ]
    },
    {
      "cell_type": "markdown",
      "source": [
        "**tuple**\n",
        "\n",
        "-in tuple concept same way remove & del items in the tuple by converting tuple to list & then what  are funtions we done"
      ],
      "metadata": {
        "id": "am_FgQdXzX9g"
      }
    },
    {
      "cell_type": "markdown",
      "source": [
        "# **Python - unpack tuples**\n",
        "\n",
        "**unpacking tuples**\n",
        "\n",
        "-note:-normally packing means,when you are create a tuple we assign values to tuple this is called 'packing' a tuple"
      ],
      "metadata": {
        "id": "OQKcMxc1zXee"
      }
    },
    {
      "cell_type": "code",
      "source": [
        "#example\n",
        "fruits = ('apple','banana','cherry')\n",
        "print(fruits)"
      ],
      "metadata": {
        "colab": {
          "base_uri": "https://localhost:8080/"
        },
        "id": "Jwcd8Q79xcz6",
        "outputId": "831bb48e-32fa-4ca7-9151-7bf0fed107cf"
      },
      "execution_count": 33,
      "outputs": [
        {
          "output_type": "stream",
          "name": "stdout",
          "text": [
            "('apple', 'banana', 'cherry')\n"
          ]
        }
      ]
    },
    {
      "cell_type": "markdown",
      "source": [
        "**unpacking**\n",
        "\n",
        "-but in python,we are also allowed to extract the values back into variables this is called 'unpacking'"
      ],
      "metadata": {
        "id": "FgWcCd7M1Dqx"
      }
    },
    {
      "cell_type": "code",
      "source": [
        "#example\n",
        "fruits = ('apple','banana','grape')\n",
        "(red,yellow,black) = fruits\n",
        "print(red)\n",
        "print(black)\n",
        "print(yellow)"
      ],
      "metadata": {
        "colab": {
          "base_uri": "https://localhost:8080/"
        },
        "id": "0LP3PIq_0xzN",
        "outputId": "09a29858-0aec-41b6-a98d-ccc9b9a4df98"
      },
      "execution_count": 36,
      "outputs": [
        {
          "output_type": "stream",
          "name": "stdout",
          "text": [
            "apple\n",
            "grape\n",
            "banana\n"
          ]
        }
      ]
    },
    {
      "cell_type": "markdown",
      "source": [
        "**using Asterisk**\n",
        "\n",
        "-if number of values is more than variables,you can addd an \"*\" to the variable name & reamianing values will be assigned to the variable"
      ],
      "metadata": {
        "id": "TtgKVKVi2qYM"
      }
    },
    {
      "cell_type": "code",
      "source": [
        "#example\n",
        "numbers = (1,3,44,3,2,5,22)\n",
        "(first,second,third,*rest) = numbers\n",
        "print(first)\n",
        "print(second)\n",
        "print(third)\n",
        "print(rest)"
      ],
      "metadata": {
        "colab": {
          "base_uri": "https://localhost:8080/"
        },
        "id": "6aUrfsLa1tIQ",
        "outputId": "2d2468a6-d8f0-4aa4-8f72-bd917eab37a7"
      },
      "execution_count": 37,
      "outputs": [
        {
          "output_type": "stream",
          "name": "stdout",
          "text": [
            "1\n",
            "3\n",
            "44\n",
            "[3, 2, 5, 22]\n"
          ]
        }
      ]
    },
    {
      "cell_type": "markdown",
      "source": [
        "**tropic variable**\n",
        "\n",
        "-add a list values to the tropic variable"
      ],
      "metadata": {
        "id": "Kx_PDJ3X4EF4"
      }
    },
    {
      "cell_type": "code",
      "source": [
        "fruits = ('apple','mango','papaya','pineapple','cheery')\n",
        "(green,*tropic ,red) = fruits\n",
        "print(green)\n",
        "print(tropic)\n",
        "print(red)"
      ],
      "metadata": {
        "colab": {
          "base_uri": "https://localhost:8080/"
        },
        "id": "cQv98Xh-3sU3",
        "outputId": "25c6f665-66f2-4e62-b4ba-5ca039025c87"
      },
      "execution_count": 38,
      "outputs": [
        {
          "output_type": "stream",
          "name": "stdout",
          "text": [
            "apple\n",
            "['mango', 'papaya', 'pineapple']\n",
            "cheery\n"
          ]
        }
      ]
    },
    {
      "cell_type": "markdown",
      "source": [
        "# **Python - loops Tuples**\n",
        "\n",
        "**loop through a tuple**\n",
        "\n"
      ],
      "metadata": {
        "id": "72RHUY-x4yiV"
      }
    },
    {
      "cell_type": "code",
      "source": [],
      "metadata": {
        "id": "fXcHsSZE4ian"
      },
      "execution_count": null,
      "outputs": []
    }
  ]
}