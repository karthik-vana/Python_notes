{
  "nbformat": 4,
  "nbformat_minor": 0,
  "metadata": {
    "colab": {
      "provenance": [],
      "authorship_tag": "ABX9TyN35xF2Cd7mxwGPV3bxw5EB",
      "include_colab_link": true
    },
    "kernelspec": {
      "name": "python3",
      "display_name": "Python 3"
    },
    "language_info": {
      "name": "python"
    }
  },
  "cells": [
    {
      "cell_type": "markdown",
      "metadata": {
        "id": "view-in-github",
        "colab_type": "text"
      },
      "source": [
        "<a href=\"https://colab.research.google.com/github/karthik-vana/Python_notes/blob/main/Python_lists.ipynb\" target=\"_parent\"><img src=\"https://colab.research.google.com/assets/colab-badge.svg\" alt=\"Open In Colab\"/></a>"
      ]
    },
    {
      "cell_type": "markdown",
      "source": [
        "**Lists concepts**\n",
        "\n",
        "-lists used to store multiple item in a single variable\n",
        "\n",
        "-lists are one of the 4 built in data types in python ,other three are tuple,set,dictionary\n",
        "\n",
        "-lists are created using sqare brackets\n",
        "\n",
        "-in lists concept memory allocation| slicing | skipping |concepts are similar to Strings\n",
        "\n"
      ],
      "metadata": {
        "id": "JvJJYGlzH2mU"
      }
    },
    {
      "cell_type": "code",
      "execution_count": null,
      "metadata": {
        "colab": {
          "base_uri": "https://localhost:8080/"
        },
        "id": "tx-l6w2UHw2p",
        "outputId": "44777404-25c8-419f-c497-8b9bfb372293"
      },
      "outputs": [
        {
          "output_type": "stream",
          "name": "stdout",
          "text": [
            "['pavan', 'kiran', 'karthik']\n"
          ]
        }
      ],
      "source": [
        "#let's create a list using square brackets\n",
        "family = ['pavan','kiran','karthik']\n",
        "print(family)"
      ]
    },
    {
      "cell_type": "markdown",
      "source": [
        "**list items**\n",
        "\n",
        "-list items are ordered,changeable,and allow duplicates\n",
        "\n",
        "-list items are indexed,first item is starts from[0],[1],[2],[3],...etc until the values finshed their count in a variable\n"
      ],
      "metadata": {
        "id": "ipyNnvTETGzF"
      }
    },
    {
      "cell_type": "markdown",
      "source": [
        "**ordered**\n",
        "\n",
        "-ordered in the sense,the item have defined order,and will not change\n",
        "\n",
        "-if you want to change item,it will be appear on the  end of the list"
      ],
      "metadata": {
        "id": "3-ccFRCaq24z"
      }
    },
    {
      "cell_type": "markdown",
      "source": [
        "**Lists built-in function**"
      ],
      "metadata": {
        "id": "XqU9-sT0yFlo"
      }
    },
    {
      "cell_type": "code",
      "source": [
        "#append - adds element at the end of the list\n",
        "x = ['pavan','kiran','karthik']\n",
        "x.append('vara laxmi')\n",
        "print(x)"
      ],
      "metadata": {
        "colab": {
          "base_uri": "https://localhost:8080/"
        },
        "id": "TOq036WLS14s",
        "outputId": "c2fb297f-db5a-4afa-c501-47d3c6403482"
      },
      "execution_count": null,
      "outputs": [
        {
          "output_type": "stream",
          "name": "stdout",
          "text": [
            "['pavan', 'kiran', 'karthik', 'vara laxmi']\n"
          ]
        }
      ]
    },
    {
      "cell_type": "code",
      "source": [
        "#extend- adds elements of a list to the  end of the current list\n",
        "x = ['pavan','kiran','karthik']\n",
        "x.extend([10,20])\n",
        "print(x)"
      ],
      "metadata": {
        "colab": {
          "base_uri": "https://localhost:8080/"
        },
        "id": "v9gswxkNWM-9",
        "outputId": "abf84d71-0717-4353-a0a1-63ec846d8e77"
      },
      "execution_count": null,
      "outputs": [
        {
          "output_type": "stream",
          "name": "stdout",
          "text": [
            "['pavan', 'kiran', 'karthik', 10, 20]\n"
          ]
        }
      ]
    },
    {
      "cell_type": "code",
      "source": [
        "#insert- adds element at a specific position\n",
        "x = ['pavan','kiran','karthik']\n",
        "x.insert(1,'varalaxmi')\n",
        "print(x)"
      ],
      "metadata": {
        "colab": {
          "base_uri": "https://localhost:8080/"
        },
        "id": "AVg5QQlZZs1-",
        "outputId": "bb57071c-5ee3-4793-e55c-7cfb3b86d6e1"
      },
      "execution_count": null,
      "outputs": [
        {
          "output_type": "stream",
          "name": "stdout",
          "text": [
            "['pavan', 'varalaxmi', 'kiran', 'karthik']\n"
          ]
        }
      ]
    },
    {
      "cell_type": "code",
      "source": [
        "#clear-removes all elements\n",
        "x = ['pavan','kiran','karthik']\n",
        "x.clear()\n",
        "print(x)"
      ],
      "metadata": {
        "colab": {
          "base_uri": "https://localhost:8080/"
        },
        "id": "b-oMhtW-aEj2",
        "outputId": "3535a41f-1d96-4699-9bc2-50ad4530f243"
      },
      "execution_count": null,
      "outputs": [
        {
          "output_type": "stream",
          "name": "stdout",
          "text": [
            "[]\n"
          ]
        }
      ]
    },
    {
      "cell_type": "code",
      "source": [
        "#copy -  returns a copy of the list\n",
        "x = ['pavan','kiran','karthik']\n",
        "x.copy()\n",
        "print(x)"
      ],
      "metadata": {
        "colab": {
          "base_uri": "https://localhost:8080/"
        },
        "id": "d-B8SQ6EbDgu",
        "outputId": "45812b10-cf56-4e9a-86d8-53afb5256e23"
      },
      "execution_count": null,
      "outputs": [
        {
          "output_type": "stream",
          "name": "stdout",
          "text": [
            "['pavan', 'kiran', 'karthik']\n"
          ]
        }
      ]
    },
    {
      "cell_type": "code",
      "source": [
        "#nrml copy-  whatever the change in list 1 same change will  appear in the list two\n",
        "'''x =  [10,20,30]\n",
        "y = x\n",
        "x[1] = 100\n",
        "print(x)\n",
        "print(y) '''\n",
        "\n",
        "#shaloow copy - changes in first list occur,but  not in second list\n",
        "x =  [10,20,30]\n",
        "y = x.copy()\n",
        "y[1] = 100\n",
        "print(x)\n",
        "print(y)\n",
        "\n",
        "#deep copy\n",
        "'''list1 = [[1, 2], [3, 4]]\n",
        "list2 = copy.deepcopy(list1)\n",
        "list1[1][0] = 999\n",
        "print(list1)\n",
        "print(list2)'''\n"
      ],
      "metadata": {
        "id": "v1iBbPsRtSUo",
        "outputId": "37de82df-d8fb-44a7-c841-c18796a4e701",
        "colab": {
          "base_uri": "https://localhost:8080/"
        }
      },
      "execution_count": null,
      "outputs": [
        {
          "output_type": "stream",
          "name": "stdout",
          "text": [
            "[10, 20, 30]\n",
            "[10, 100, 30]\n"
          ]
        }
      ]
    },
    {
      "cell_type": "code",
      "source": [
        "# count - returns the no of elements with specific value\n",
        "\n",
        "x =  ['pavan','kiran','karthik','pavan']\n",
        "y= x.count('pavan')\n",
        "print (y)"
      ],
      "metadata": {
        "colab": {
          "base_uri": "https://localhost:8080/"
        },
        "id": "41WGHYahb2Zq",
        "outputId": "3126335a-3753-4b9e-db46-7c066c454443"
      },
      "execution_count": null,
      "outputs": [
        {
          "output_type": "stream",
          "name": "stdout",
          "text": [
            "2\n"
          ]
        }
      ]
    },
    {
      "cell_type": "code",
      "source": [
        "#index- returns the index of the first element with specific values\n",
        "x = [10,30,20,30]\n",
        "y= x.index(30)\n",
        "print(y)"
      ],
      "metadata": {
        "colab": {
          "base_uri": "https://localhost:8080/"
        },
        "id": "axmsMPzWcP21",
        "outputId": "c5e46b5b-41a0-431a-a3f7-c5afc9d53070"
      },
      "execution_count": null,
      "outputs": [
        {
          "output_type": "stream",
          "name": "stdout",
          "text": [
            "1\n"
          ]
        }
      ]
    },
    {
      "cell_type": "code",
      "source": [
        "#pop- removes the element at the specific position\n",
        "x =  [10,20,30]\n",
        "x.pop(0)\n",
        "print(x)"
      ],
      "metadata": {
        "colab": {
          "base_uri": "https://localhost:8080/"
        },
        "id": "jyr7fCY-dk4k",
        "outputId": "4c2d8a55-80ed-4204-86d4-34e8667fdf36"
      },
      "execution_count": null,
      "outputs": [
        {
          "output_type": "stream",
          "name": "stdout",
          "text": [
            "[20, 30]\n"
          ]
        }
      ]
    },
    {
      "cell_type": "code",
      "source": [
        "#remove - remove  the element of the specific value\n",
        "x =  [10,20,30]\n",
        "x.remove(20)\n",
        "\n",
        "print(x)"
      ],
      "metadata": {
        "colab": {
          "base_uri": "https://localhost:8080/"
        },
        "id": "GFc-6YM-d0VA",
        "outputId": "30c953fb-b0fc-4f54-ec35-ef0656d3e86a"
      },
      "execution_count": null,
      "outputs": [
        {
          "output_type": "stream",
          "name": "stdout",
          "text": [
            "[10, 30]\n"
          ]
        }
      ]
    },
    {
      "cell_type": "code",
      "source": [
        "#reverse- reverse the order of list\n",
        "x = [10,20,30]\n",
        "x.reverse()\n",
        "print(x)"
      ],
      "metadata": {
        "colab": {
          "base_uri": "https://localhost:8080/"
        },
        "id": "ehezFxSTfCNR",
        "outputId": "5f8b41db-86dd-465d-c97a-b73a404733a0"
      },
      "execution_count": null,
      "outputs": [
        {
          "output_type": "stream",
          "name": "stdout",
          "text": [
            "[30, 20, 10]\n"
          ]
        }
      ]
    },
    {
      "cell_type": "code",
      "source": [
        "#sort- sort in the list defultly keep values in acending order(ascending or decending using reverse = True)\n",
        "x = [10,20,30,10,20]\n",
        "x.sort(reverse = True)\n",
        "print(x)"
      ],
      "metadata": {
        "colab": {
          "base_uri": "https://localhost:8080/"
        },
        "id": "465gaswyg2vl",
        "outputId": "b9d5b37c-68ff-4bab-c642-df06f4704e23"
      },
      "execution_count": null,
      "outputs": [
        {
          "output_type": "stream",
          "name": "stdout",
          "text": [
            "[30, 20, 20, 10, 10]\n"
          ]
        }
      ]
    },
    {
      "cell_type": "markdown",
      "source": [
        "**changeable**\n",
        "\n",
        "the list is changeable,meaning that we can change,add,remove, items in the list it has been created\n"
      ],
      "metadata": {
        "id": "of_LhRx4hbT6"
      }
    },
    {
      "cell_type": "code",
      "source": [
        "x = ['pavan','kiran','karthik']\n",
        "x.insert(1,'vara laxmi')\n",
        "print(x)"
      ],
      "metadata": {
        "colab": {
          "base_uri": "https://localhost:8080/"
        },
        "id": "9Hm3Dk77h-2x",
        "outputId": "f51cf22c-932e-455a-bed0-f23a09c3d069"
      },
      "execution_count": null,
      "outputs": [
        {
          "output_type": "stream",
          "name": "stdout",
          "text": [
            "['pavan', 'vara laxmi', 'kiran', 'karthik']\n"
          ]
        }
      ]
    },
    {
      "cell_type": "markdown",
      "source": [
        "**allow duplicates**\n",
        "\n",
        "-since, lists are indxed,lists can have items with same value"
      ],
      "metadata": {
        "id": "IZF6Ct9-qAA1"
      }
    },
    {
      "cell_type": "code",
      "source": [
        "x = ['karthik','vana','karthik','krishna']\n",
        "print(x)"
      ],
      "metadata": {
        "colab": {
          "base_uri": "https://localhost:8080/"
        },
        "id": "KeyiQONWp82F",
        "outputId": "fed792d4-2b65-469e-ff33-0430a7f4d653"
      },
      "execution_count": null,
      "outputs": [
        {
          "output_type": "stream",
          "name": "stdout",
          "text": [
            "['karthik', 'vana', 'karthik', 'krishna']\n"
          ]
        }
      ]
    },
    {
      "cell_type": "markdown",
      "source": [
        "**list length**\n",
        "\n",
        "-to determine how many items in the list,by useing len() built-in function use can easily know thw length of the list"
      ],
      "metadata": {
        "id": "B-uw48UOuYqR"
      }
    },
    {
      "cell_type": "code",
      "source": [
        "laptops = ['hp','lenovo','dell','lenovo']\n",
        "print(len(laptops))"
      ],
      "metadata": {
        "id": "yTu4-h3PhLAH",
        "colab": {
          "base_uri": "https://localhost:8080/"
        },
        "outputId": "7e592532-79df-4af1-d214-181131fc1612"
      },
      "execution_count": null,
      "outputs": [
        {
          "output_type": "stream",
          "name": "stdout",
          "text": [
            "4\n"
          ]
        }
      ]
    },
    {
      "cell_type": "markdown",
      "source": [
        "**lists items - data types**\n",
        "\n",
        "-list items can contains any data types (int,float,st,bool)"
      ],
      "metadata": {
        "id": "HxHkzy8pw3Bh"
      }
    },
    {
      "cell_type": "code",
      "source": [
        "x =  ['karthik',22,9.5,True]\n",
        "print(x)"
      ],
      "metadata": {
        "id": "_kRNmlmovSH0",
        "outputId": "f3ac74dd-0d1a-4236-b912-b02b66df72ae",
        "colab": {
          "base_uri": "https://localhost:8080/"
        }
      },
      "execution_count": null,
      "outputs": [
        {
          "output_type": "stream",
          "name": "stdout",
          "text": [
            "['karthik', 22, 9.5, True]\n"
          ]
        }
      ]
    },
    {
      "cell_type": "markdown",
      "source": [
        "**Type()**\n",
        "\n",
        "-lists are defined as objects with data tyoes  "
      ],
      "metadata": {
        "id": "LXC5dzksybO4"
      }
    },
    {
      "cell_type": "code",
      "source": [
        "x = ['karthik',22,9.5]\n",
        "print(type(x))"
      ],
      "metadata": {
        "id": "NMMg8dHbxqq5",
        "outputId": "5f62b4f4-bb73-4ef3-dd9c-5c6426154fd3",
        "colab": {
          "base_uri": "https://localhost:8080/"
        }
      },
      "execution_count": null,
      "outputs": [
        {
          "output_type": "stream",
          "name": "stdout",
          "text": [
            "<class 'list'>\n"
          ]
        }
      ]
    },
    {
      "cell_type": "markdown",
      "source": [
        "**List constructer**\n",
        "\n",
        "-it is possible to construct a new list by using list()"
      ],
      "metadata": {
        "id": "1j-Z2wNWzv-k"
      }
    },
    {
      "cell_type": "code",
      "source": [
        "thislist = list((\"apple\", \"banana\", \"cherry\")) # note the double round-brackets\n",
        "print(thislist)"
      ],
      "metadata": {
        "id": "Jt0MprJ9zJj4",
        "outputId": "cadacc95-f309-4342-cf4e-25c25b9c119d",
        "colab": {
          "base_uri": "https://localhost:8080/"
        }
      },
      "execution_count": null,
      "outputs": [
        {
          "output_type": "stream",
          "name": "stdout",
          "text": [
            "['apple', 'banana', 'cherry']\n"
          ]
        }
      ]
    },
    {
      "cell_type": "markdown",
      "source": [
        "**Python collections (Arrays)**\n",
        "\n",
        "-list-a collection which is ordered,changeable,allows duplicates\n",
        "\n",
        "-tuple-a collection which is ordered,unchangeable,allows duplicates\n",
        "\n",
        "-set-a collection which is unordered,unchangeable, and unindexed,no duplicates\n",
        "\n",
        "-dictionary-a collection which is ordered,changeable,no duplicates"
      ],
      "metadata": {
        "id": "ww5Sw1Ov2WX9"
      }
    },
    {
      "cell_type": "code",
      "source": [],
      "metadata": {
        "id": "xbvqVoS60JmM"
      },
      "execution_count": null,
      "outputs": []
    },
    {
      "cell_type": "markdown",
      "source": [
        "**python - access list items **\n",
        "\n",
        "-in list concept,values present in the list are indexed,we can access them referring to the index\n",
        "\n",
        "- note - the first item has '0' index"
      ],
      "metadata": {
        "id": "vEQ8tysBGYy9"
      }
    },
    {
      "cell_type": "code",
      "source": [
        "#example\n",
        "details = ['karthik',22,10] #indexed values\n",
        "print(details[0]) # access  the value by refering index"
      ],
      "metadata": {
        "id": "y_iN6CIJHj6R",
        "outputId": "2c4a9485-3105-4715-ce09-25c4f96aba33",
        "colab": {
          "base_uri": "https://localhost:8080/"
        }
      },
      "execution_count": null,
      "outputs": [
        {
          "output_type": "stream",
          "name": "stdout",
          "text": [
            "karthik\n"
          ]
        }
      ]
    },
    {
      "cell_type": "markdown",
      "source": [
        "**negative index**\n",
        "\n",
        "-negative indexing means start from end\n",
        "\n",
        "-1 refers to the last item ,-2 refers to the second last item"
      ],
      "metadata": {
        "id": "towBUI7cIwZq"
      }
    },
    {
      "cell_type": "code",
      "source": [
        "#example\n",
        "details = ['karthik',22,10]\n",
        "print(details[-1])"
      ],
      "metadata": {
        "id": "PCOlltXzH9gd",
        "outputId": "926050bb-69fa-4e8b-b880-a9f09022cd47",
        "colab": {
          "base_uri": "https://localhost:8080/"
        }
      },
      "execution_count": null,
      "outputs": [
        {
          "output_type": "stream",
          "name": "stdout",
          "text": [
            "10\n"
          ]
        }
      ]
    },
    {
      "cell_type": "markdown",
      "source": [
        "**range of indexes**\n",
        "\n",
        "- you can specify a range ,where to start & end the range\n",
        "\n",
        "- *when* specifying a range, the return value will be a new list with specified items"
      ],
      "metadata": {
        "id": "YmRdLhaNR4Pr"
      }
    },
    {
      "cell_type": "code",
      "source": [
        "#example\n",
        "x = ['karthik',20,2.0,10]\n",
        "print(x[1:3]) # we have to give less value to high value"
      ],
      "metadata": {
        "id": "nBOG27vWSkVy",
        "outputId": "3c5fcb7d-2870-44e7-8644-0a2dc4f0edd5",
        "colab": {
          "base_uri": "https://localhost:8080/"
        }
      },
      "execution_count": null,
      "outputs": [
        {
          "output_type": "stream",
          "name": "stdout",
          "text": [
            "[20, 2.0]\n"
          ]
        }
      ]
    },
    {
      "cell_type": "markdown",
      "source": [
        "**range of negative indexes**\n",
        "- specify negative indexes,if you want to start the search from the  end of the list\n",
        "\n"
      ],
      "metadata": {
        "id": "ewP3zT1KT2bb"
      }
    },
    {
      "cell_type": "code",
      "source": [
        "x = [20,30,40,50,60,70]\n",
        "print(x[-5:-2]) # we have to give less value to high value"
      ],
      "metadata": {
        "id": "k52PwmidRn6Y",
        "outputId": "c24d2cfc-013d-4e91-c01f-628575182808",
        "colab": {
          "base_uri": "https://localhost:8080/"
        }
      },
      "execution_count": null,
      "outputs": [
        {
          "output_type": "stream",
          "name": "stdout",
          "text": [
            "[30, 40, 50]\n"
          ]
        }
      ]
    },
    {
      "cell_type": "markdown",
      "source": [
        "**check if item exists**\n",
        "\n",
        "- to determine a specific value present in the  list by using 'in' keyword"
      ],
      "metadata": {
        "id": "8gf-_E-TV3lu"
      }
    },
    {
      "cell_type": "code",
      "source": [
        "#example\n",
        "cricket = ['bat','ball','wickects']\n",
        "if 'ball' in cricket:\n",
        "  print('yes','we can play now')"
      ],
      "metadata": {
        "id": "xTxPs1l-U7zL",
        "outputId": "3da5e53c-e350-40a1-9de4-c678be5847dc",
        "colab": {
          "base_uri": "https://localhost:8080/"
        }
      },
      "execution_count": null,
      "outputs": [
        {
          "output_type": "stream",
          "name": "stdout",
          "text": [
            "yes we can play now\n"
          ]
        }
      ]
    },
    {
      "cell_type": "markdown",
      "source": [
        "# **python - change list items**\n",
        "\n",
        "**change item value**\n",
        "\n",
        "-to change the value of a specific item,refer to the index number"
      ],
      "metadata": {
        "id": "scGi8e2fYSA_"
      }
    },
    {
      "cell_type": "code",
      "source": [
        "#example\n",
        "x =  [10,20,30,40]\n",
        "x[1] = 100\n",
        "print(x)"
      ],
      "metadata": {
        "id": "mPklHSCvX4k6",
        "outputId": "ff5e9060-1958-47a1-94bb-bb75dfbe5922",
        "colab": {
          "base_uri": "https://localhost:8080/"
        }
      },
      "execution_count": null,
      "outputs": [
        {
          "output_type": "stream",
          "name": "stdout",
          "text": [
            "[10, 100, 30, 40]\n"
          ]
        }
      ]
    },
    {
      "cell_type": "markdown",
      "source": [
        "**change a range of the items**\n",
        "\n",
        "-to change the value of item with a specific range,define a list with different values,and refer their indexes,where you want to insert new values"
      ],
      "metadata": {
        "id": "hid8r3ohZSi4"
      }
    },
    {
      "cell_type": "code",
      "source": [
        "#example\n",
        "the_list = ['apple','banana','grapes',20,30.1,True]\n",
        "the_list[1:4] = ['watermelon','mango',10]\n",
        "print(the_list)"
      ],
      "metadata": {
        "id": "I_5AWzvFZMLI",
        "outputId": "79ceeec5-9ea2-4a3e-a3ac-aabbdc988576",
        "colab": {
          "base_uri": "https://localhost:8080/"
        }
      },
      "execution_count": null,
      "outputs": [
        {
          "output_type": "stream",
          "name": "stdout",
          "text": [
            "['apple', 'watermelon', 'mango', 10, 30.1, True]\n"
          ]
        }
      ]
    },
    {
      "cell_type": "code",
      "source": [
        "#example\n",
        "the_list = ['apple','banana','cherry']\n",
        "the_list[1:2] = ['watermelon']\n",
        "print(the_list)"
      ],
      "metadata": {
        "id": "FCrA9q0Da0uo",
        "outputId": "6cd49668-5bac-43db-b612-39c3230a62d7",
        "colab": {
          "base_uri": "https://localhost:8080/"
        }
      },
      "execution_count": null,
      "outputs": [
        {
          "output_type": "stream",
          "name": "stdout",
          "text": [
            "['apple', 'watermelon', 'cherry']\n"
          ]
        }
      ]
    },
    {
      "cell_type": "markdown",
      "source": [
        "# **loop through a list**\n",
        "\n",
        "-you can loop through the list items by using a for loop\n",
        "\n",
        "-looping using list comprehension\n",
        "(list comprehension offers shortest syntax for looping through list)"
      ],
      "metadata": {
        "id": "Zvg1Ke7igj8v"
      }
    },
    {
      "cell_type": "code",
      "source": [
        "#example\n",
        "fruits = ['apple','banana','mango']\n",
        "for x in fruits:\n",
        "  print(x)"
      ],
      "metadata": {
        "id": "3xE6-9SJbkOI",
        "outputId": "c6138217-5891-4cbc-f820-bbf11e006e22",
        "colab": {
          "base_uri": "https://localhost:8080/"
        }
      },
      "execution_count": null,
      "outputs": [
        {
          "output_type": "stream",
          "name": "stdout",
          "text": [
            "apple\n",
            "banana\n",
            "mango\n"
          ]
        }
      ]
    },
    {
      "cell_type": "markdown",
      "source": [
        "**loop through the the index numbers**\n",
        "\n",
        "**for loop**\n",
        "\n",
        "-you can also loop through the list by referring to thier index numbers\n",
        "\n",
        "-use range() & len() funtions to create a suitable iterable\n"
      ],
      "metadata": {
        "id": "wMWwHIqNiiL1"
      }
    },
    {
      "cell_type": "code",
      "source": [
        "#example\n",
        "friuts =  ['apple','banana','cherry']\n",
        "for i in range(len(fruits)):\n",
        "  print(fruits[i])"
      ],
      "metadata": {
        "id": "EF6eWZtQhP_7",
        "outputId": "2b3c3b7c-84ff-4ccc-c0b7-6b0c370533c9",
        "colab": {
          "base_uri": "https://localhost:8080/"
        }
      },
      "execution_count": null,
      "outputs": [
        {
          "output_type": "stream",
          "name": "stdout",
          "text": [
            "apple\n",
            "banana\n",
            "mango\n"
          ]
        }
      ]
    },
    {
      "cell_type": "markdown",
      "source": [
        "**while loop**\n",
        "\n",
        "-we can loop through the list items by using a 'while' loop\n",
        "\n",
        "-by useing len() funtion to determine the length of the list,then start at 0 and loop your way through the lists items by refering to their indexes\n",
        "\n",
        "-remember to increase the index by 1 after each iteration"
      ],
      "metadata": {
        "id": "_EV3EDxfkvTH"
      }
    },
    {
      "cell_type": "code",
      "source": [
        "#example\n",
        "x = ['apple','banana','cherry']\n",
        "i = 0\n",
        "while i < len(x):\n",
        "  print(x[i])\n",
        "  i =  i+1"
      ],
      "metadata": {
        "id": "lClLL6jCjmhp",
        "outputId": "849e9b3b-c2a9-4fa5-be0e-b23f2d4b6d1d",
        "colab": {
          "base_uri": "https://localhost:8080/"
        }
      },
      "execution_count": null,
      "outputs": [
        {
          "output_type": "stream",
          "name": "stdout",
          "text": [
            "apple\n",
            "banana\n",
            "cherry\n"
          ]
        }
      ]
    },
    {
      "cell_type": "markdown",
      "source": [
        "# **list comprehension**\n",
        "\n",
        "-list comprehension offers shorter syntax & create a new list based on existing list\n",
        "\n",
        "-for example,you can create new list containing single condition(createing list having 'a' letter)\n",
        "\n",
        "-without using list comprehension,we will  have to write code using 'for' loop with condition(if) inside"
      ],
      "metadata": {
        "id": "JJ7BfSQ1RZUC"
      }
    },
    {
      "cell_type": "code",
      "source": [
        "#example\n",
        "cricket_items = ['bat','ball','glouse','pads','ground']\n",
        "newlist = []\n",
        "for x in cricket_items:\n",
        "  if 'a' in x:\n",
        "    newlist.append(x)\n",
        "\n",
        "print(newlist)"
      ],
      "metadata": {
        "id": "izH7UlbGmURM",
        "outputId": "ebcee600-bbbf-4827-a83d-3e1fd05ec273",
        "colab": {
          "base_uri": "https://localhost:8080/"
        }
      },
      "execution_count": null,
      "outputs": [
        {
          "output_type": "stream",
          "name": "stdout",
          "text": [
            "['bat', 'ball', 'pads']\n"
          ]
        }
      ]
    },
    {
      "cell_type": "markdown",
      "source": [
        "-with using list comprehension you can do all that with only one line of code"
      ],
      "metadata": {
        "id": "BvqA436nWPVt"
      }
    },
    {
      "cell_type": "code",
      "source": [
        "# syntax = [expression for item in iterable if condition == True]\n",
        "cricket_items = ['bat','ball','glouse','pads','ground']\n",
        "newlist = [x for x in cricket_items if 'a' in x]\n",
        "print(newlist)"
      ],
      "metadata": {
        "id": "Zn4HbS-WVhp3",
        "outputId": "d135df9f-079f-46a1-ae4b-ae7f996b64b5",
        "colab": {
          "base_uri": "https://localhost:8080/"
        }
      },
      "execution_count": null,
      "outputs": [
        {
          "output_type": "stream",
          "name": "stdout",
          "text": [
            "['bat', 'ball', 'pads']\n"
          ]
        }
      ]
    },
    {
      "cell_type": "markdown",
      "source": [
        "**condition**\n",
        "\n",
        "-the condition is like a filter that only accepts the items which statifies True"
      ],
      "metadata": {
        "id": "wQex-Fo_YG17"
      }
    },
    {
      "cell_type": "code",
      "source": [
        "newlist =  [x for x in cricket_items if x != 'bat']\n",
        "print(newlist)"
      ],
      "metadata": {
        "id": "26VSvkc5XWds",
        "outputId": "658a5b9c-7aee-45ef-b729-4ad32e604955",
        "colab": {
          "base_uri": "https://localhost:8080/"
        }
      },
      "execution_count": null,
      "outputs": [
        {
          "output_type": "stream",
          "name": "stdout",
          "text": [
            "['ball', 'glouse', 'pads', 'ground']\n"
          ]
        }
      ]
    },
    {
      "cell_type": "markdown",
      "source": [
        "-with no 'if' statement"
      ],
      "metadata": {
        "id": "3r4QF1jFY--5"
      }
    },
    {
      "cell_type": "code",
      "source": [
        "newlist = [x for x in cricket_items]\n",
        "print(newlist)"
      ],
      "metadata": {
        "id": "0I56TlyeYumL",
        "outputId": "c03294f5-6cda-4f7a-863c-b8a18c0a92f8",
        "colab": {
          "base_uri": "https://localhost:8080/"
        }
      },
      "execution_count": null,
      "outputs": [
        {
          "output_type": "stream",
          "name": "stdout",
          "text": [
            "['bat', 'ball', 'glouse', 'pads', 'ground']\n"
          ]
        }
      ]
    },
    {
      "cell_type": "markdown",
      "source": [
        "**iterable**\n",
        "\n",
        "-iterable can be any object,like list,tuple,set etc..,\n",
        "\n",
        "-you can use 'range()' funtion to create an iterable"
      ],
      "metadata": {
        "id": "9GU99JPYZbX5"
      }
    },
    {
      "cell_type": "code",
      "source": [
        "# for example\n",
        "newlist = [x for x in range(10)]\n",
        "print(newlist)"
      ],
      "metadata": {
        "id": "xK3JFovEZSUg",
        "outputId": "f1aa2a03-6513-4e7b-aecc-cb296d9c76c3",
        "colab": {
          "base_uri": "https://localhost:8080/"
        }
      },
      "execution_count": null,
      "outputs": [
        {
          "output_type": "stream",
          "name": "stdout",
          "text": [
            "[0, 1, 2, 3, 4, 5, 6, 7, 8, 9]\n"
          ]
        }
      ]
    },
    {
      "cell_type": "code",
      "source": [
        "# same example ,but with condition\n",
        "#  accept numbers lower than 5:\n",
        "list = [x for x in range(10) if x > 7]\n",
        "print(list)"
      ],
      "metadata": {
        "id": "wP8Ag61DaU2N",
        "outputId": "668d9462-1008-4cc0-e3d7-726726246823",
        "colab": {
          "base_uri": "https://localhost:8080/"
        }
      },
      "execution_count": null,
      "outputs": [
        {
          "output_type": "stream",
          "name": "stdout",
          "text": [
            "[8, 9]\n"
          ]
        }
      ]
    },
    {
      "cell_type": "markdown",
      "source": [
        "**expression**\n",
        "\n",
        "-expresssion is current item in iteration,but you can manipulate before it ends up like a new list\n"
      ],
      "metadata": {
        "id": "F0svQaPnbPuV"
      }
    },
    {
      "cell_type": "code",
      "source": [
        "#example\n",
        "# set the values to uppercase\n",
        "list = [x.upper() for x in cricket_items]\n",
        "print (list)"
      ],
      "metadata": {
        "id": "W30QrgMJa9sv",
        "outputId": "e6476854-2a96-49b7-ae4b-f0ae938d25ef",
        "colab": {
          "base_uri": "https://localhost:8080/"
        }
      },
      "execution_count": null,
      "outputs": [
        {
          "output_type": "stream",
          "name": "stdout",
          "text": [
            "['BAT', 'BALL', 'GLOUSE', 'PADS', 'GROUND']\n"
          ]
        }
      ]
    },
    {
      "cell_type": "markdown",
      "source": [
        "-you can set the outcomes to whatever you like"
      ],
      "metadata": {
        "id": "XNx4f8PqcniX"
      }
    },
    {
      "cell_type": "code",
      "source": [
        "list = ['karthik' for x in cricket_items]\n",
        "print(list)"
      ],
      "metadata": {
        "id": "T5CafILxcaWY",
        "outputId": "2ac87c9d-f7cf-40e5-aed7-c6593a64b07b",
        "colab": {
          "base_uri": "https://localhost:8080/"
        }
      },
      "execution_count": null,
      "outputs": [
        {
          "output_type": "stream",
          "name": "stdout",
          "text": [
            "['karthik', 'karthik', 'karthik', 'karthik', 'karthik']\n"
          ]
        }
      ]
    },
    {
      "cell_type": "markdown",
      "source": [
        "-the expression can also contain conditions,not like a filter,but as a way to ,manipulate  the outcome"
      ],
      "metadata": {
        "id": "_Rvf49Q_dGiV"
      }
    },
    {
      "cell_type": "code",
      "source": [
        "#example,\n",
        "list = [x if x != 'pads' else 'jersey' for x in cricket_items]\n",
        "print(list)"
      ],
      "metadata": {
        "id": "lrKwhFXjc5r3",
        "outputId": "aac7027f-90e2-4f9b-9eff-a3e4fdd2688b",
        "colab": {
          "base_uri": "https://localhost:8080/"
        }
      },
      "execution_count": null,
      "outputs": [
        {
          "output_type": "stream",
          "name": "stdout",
          "text": [
            "['bat', 'ball', 'glouse', 'jersey', 'ground']\n"
          ]
        }
      ]
    },
    {
      "cell_type": "markdown",
      "source": [
        "# **python - sort lists**\n",
        "\n",
        "**sort list alphanumerically**\n",
        "\n",
        "-in list conceot sort() method will sort alphanumerically ascending,by defualt.\n"
      ],
      "metadata": {
        "id": "hHBgIIUKE96M"
      }
    },
    {
      "cell_type": "code",
      "source": [
        "#example\n",
        "#sort the list\n",
        "home_items = ['fan','fridge','ac','tv','inventor']\n",
        "home_items.sort()\n",
        "print(home_items)"
      ],
      "metadata": {
        "id": "6-L_tPeRFx9u",
        "outputId": "08757d74-dffb-4b4d-b6df-ad2ba851db10",
        "colab": {
          "base_uri": "https://localhost:8080/"
        }
      },
      "execution_count": 15,
      "outputs": [
        {
          "output_type": "stream",
          "name": "stdout",
          "text": [
            "['ac', 'fan', 'fridge', 'inventor', 'tv']\n"
          ]
        }
      ]
    },
    {
      "cell_type": "code",
      "source": [
        "marks =[30,8,29,395,23]\n",
        "marks.sort()\n",
        "print(marks)"
      ],
      "metadata": {
        "id": "fUMaeoBxGiVw",
        "outputId": "0f326ece-6ae1-4405-9f3f-2573a8b6fd78",
        "colab": {
          "base_uri": "https://localhost:8080/"
        }
      },
      "execution_count": 4,
      "outputs": [
        {
          "output_type": "stream",
          "name": "stdout",
          "text": [
            "[8, 23, 29, 30, 395]\n"
          ]
        }
      ]
    },
    {
      "cell_type": "markdown",
      "source": [
        "**sort descending order**\n",
        "\n",
        "-to sort descending ,use key argument reverse = True"
      ],
      "metadata": {
        "id": "XZyBho-_GwoW"
      }
    },
    {
      "cell_type": "code",
      "source": [
        "#example\n",
        "list = [10,49,20,80,30,19]\n",
        "list.sort(reverse = True)\n",
        "print(list)"
      ],
      "metadata": {
        "id": "Z0A-E6vYHDay",
        "outputId": "0762f90d-a8bf-4629-c7f0-8166c91c1029",
        "colab": {
          "base_uri": "https://localhost:8080/"
        }
      },
      "execution_count": 5,
      "outputs": [
        {
          "output_type": "stream",
          "name": "stdout",
          "text": [
            "[80, 49, 30, 20, 19, 10]\n"
          ]
        }
      ]
    },
    {
      "cell_type": "markdown",
      "source": [
        "**customize sort funtion**\n",
        "\n",
        "-we can customize funtion using key argument 'key = funtion'\n",
        "\n",
        "-sort the list based on how close the number is to 50"
      ],
      "metadata": {
        "id": "zxvrZtljE9cl"
      }
    },
    {
      "cell_type": "code",
      "source": [
        "def myfunc(n):\n",
        "  return abs(n - 50 )\n",
        "\n",
        "list  = [100,203,3,40,29,20]\n",
        "list.sort(key = myfunc)\n",
        "print(list)"
      ],
      "metadata": {
        "id": "MzBsNCbnd3Ai",
        "outputId": "98395a47-ef76-404e-c804-d60fb758dea9",
        "colab": {
          "base_uri": "https://localhost:8080/"
        }
      },
      "execution_count": 7,
      "outputs": [
        {
          "output_type": "stream",
          "name": "stdout",
          "text": [
            "[40, 29, 20, 3, 100, 203]\n"
          ]
        }
      ]
    },
    {
      "cell_type": "code",
      "source": [
        "def x(n):\n",
        "  return abs(n-9)\n",
        "list = [1,2,3,9,5,4,23,4,5,6]\n",
        "list.sort(key = x)\n",
        "print(list)"
      ],
      "metadata": {
        "id": "EPqBfhHYVMt5",
        "outputId": "430ead53-1051-4ac7-aae9-55a8ba450721",
        "colab": {
          "base_uri": "https://localhost:8080/"
        }
      },
      "execution_count": 12,
      "outputs": [
        {
          "output_type": "stream",
          "name": "stdout",
          "text": [
            "[9, 6, 5, 5, 4, 4, 3, 2, 1, 23]\n"
          ]
        }
      ]
    },
    {
      "cell_type": "markdown",
      "source": [
        "**case insensitive sort**\n",
        "\n",
        "-by defult the sort() method is case sensitive,resulting in all capital letters\n",
        "\n",
        "-to overcome this we have built in funtion 'key funtions,use 'str.lower' as key funtion\n",
        "\n"
      ],
      "metadata": {
        "id": "jcI9YUUKWkOF"
      }
    },
    {
      "cell_type": "code",
      "source": [
        "#example\n",
        "fruits = ['banana','Orange','kiwi','mango','Cherrry']\n",
        "fruits.sort()\n",
        "print(fruits)"
      ],
      "metadata": {
        "id": "8yxOAWQxV6tR",
        "outputId": "9ab973b8-4511-4183-c8ad-620f6b66f4c2",
        "colab": {
          "base_uri": "https://localhost:8080/"
        }
      },
      "execution_count": 18,
      "outputs": [
        {
          "output_type": "stream",
          "name": "stdout",
          "text": [
            "['Cherrry', 'Orange', 'banana', 'kiwi', 'mango']\n"
          ]
        }
      ]
    },
    {
      "cell_type": "code",
      "source": [
        "# TO overcome we have case- insenitive sort\n",
        "fruits = ['banana','Orange','kiwi','mango','Cherrry']\n",
        "fruits.sort(key = str.lower)\n",
        "print(fruits)"
      ],
      "metadata": {
        "id": "ZwO0XrCPY0Dz",
        "outputId": "943cd8b0-1a89-4391-94eb-38a569210b5d",
        "colab": {
          "base_uri": "https://localhost:8080/"
        }
      },
      "execution_count": 19,
      "outputs": [
        {
          "output_type": "stream",
          "name": "stdout",
          "text": [
            "['banana', 'Cherrry', 'kiwi', 'mango', 'Orange']\n"
          ]
        }
      ]
    },
    {
      "cell_type": "markdown",
      "source": [
        "**reverse order**\n",
        "\n",
        "-the reverse() method reverses the current sorting order of the elements\n"
      ],
      "metadata": {
        "id": "D3_LMu2dZoc6"
      }
    },
    {
      "cell_type": "code",
      "source": [
        "family = ['vara laxmi','pavan','kiran','karthik','janu']\n",
        "family.reverse()\n",
        "print(family)"
      ],
      "metadata": {
        "id": "YHmIcAVLaVUR",
        "outputId": "b58716b8-ed35-4980-a983-a9ed37be3a21",
        "colab": {
          "base_uri": "https://localhost:8080/"
        }
      },
      "execution_count": 20,
      "outputs": [
        {
          "output_type": "stream",
          "name": "stdout",
          "text": [
            "['janu', 'karthik', 'kiran', 'pavan', 'vara laxmi']\n"
          ]
        }
      ]
    },
    {
      "cell_type": "markdown",
      "source": [
        "# **Python-copy lists**\n",
        "\n",
        "**copy a list**\n",
        "\n",
        "-you cannot copy a list simply by typing list2 =  list1,because list2 will only refrence to list1  & what are the changes made in list1 will automatically made in list2"
      ],
      "metadata": {
        "id": "SwjTTreNazuL"
      }
    },
    {
      "cell_type": "markdown",
      "source": [
        "**use the copy() method**\n",
        "\n",
        "-we can use built-in funtions copy() to copy a list"
      ],
      "metadata": {
        "id": "0M-diijHcLgA"
      }
    },
    {
      "cell_type": "code",
      "source": [
        "#example\n",
        "x =  [10,20,30,40,50]\n",
        "y = x.copy()\n",
        "print(y)"
      ],
      "metadata": {
        "id": "V3AJWKtcaTKS",
        "outputId": "d67481c1-abf9-4ba0-efd2-00609c7100dc",
        "colab": {
          "base_uri": "https://localhost:8080/"
        }
      },
      "execution_count": 21,
      "outputs": [
        {
          "output_type": "stream",
          "name": "stdout",
          "text": [
            "[10, 20, 30, 40, 50]\n"
          ]
        }
      ]
    },
    {
      "cell_type": "markdown",
      "source": [],
      "metadata": {
        "id": "9ut4d7M9ZoIx"
      }
    },
    {
      "cell_type": "code",
      "source": [
        "x = ['apple','banana','grape','cherry']\n",
        "\n",
        "y = x.copy()\n",
        "print(x)\n",
        "print(y)"
      ],
      "metadata": {
        "id": "usDnLlNKZcTW",
        "outputId": "81e49cad-b3a4-42f8-84cd-ec450a9812f2",
        "colab": {
          "base_uri": "https://localhost:8080/"
        }
      },
      "execution_count": 33,
      "outputs": [
        {
          "output_type": "stream",
          "name": "stdout",
          "text": [
            "['apple', 'banana', 'grape', 'cherry']\n",
            "['apple', 'banana', 'grape', 'cherry']\n"
          ]
        }
      ]
    },
    {
      "cell_type": "markdown",
      "source": [
        "**use list method**\n",
        "\n",
        "-another way to make a copy in the  list is to use built-in funtion 'list()'\n"
      ],
      "metadata": {
        "id": "2aKbS2JXeSXF"
      }
    },
    {
      "cell_type": "markdown",
      "source": [
        "**slicing**\n"
      ],
      "metadata": {
        "id": "ygNp6tU1gFaT"
      }
    },
    {
      "cell_type": "code",
      "source": [
        "thislist = [\"apple\", \"banana\", \"cherry\"]\n",
        "mylist = thislist[:-1]\n",
        "print(mylist)"
      ],
      "metadata": {
        "id": "IrEk3V6ke3eW",
        "outputId": "fa605aef-1b0f-4bd6-8414-86f9e2b5031f",
        "colab": {
          "base_uri": "https://localhost:8080/"
        }
      },
      "execution_count": 45,
      "outputs": [
        {
          "output_type": "stream",
          "name": "stdout",
          "text": [
            "['apple', 'banana']\n"
          ]
        }
      ]
    },
    {
      "cell_type": "markdown",
      "source": [
        "# **Pyhton- join lists**\n",
        "\n",
        "**join two lists**\n",
        "\n",
        "-there are many ways to join,or concatenate,two or more lists in python\n",
        "\n",
        "-one of the easiest way are using '+' operator"
      ],
      "metadata": {
        "id": "lCZ8BMFkgLhG"
      }
    },
    {
      "cell_type": "code",
      "source": [
        "x =  ['a','d','r','w']\n",
        "y =  [2,4,5,7,3,3]\n",
        "new_list = x + y\n",
        "print(new_list)"
      ],
      "metadata": {
        "id": "f9taW75WfxAA",
        "outputId": "1b7f440a-07a1-4501-a240-51c528a47e7b",
        "colab": {
          "base_uri": "https://localhost:8080/"
        }
      },
      "execution_count": 46,
      "outputs": [
        {
          "output_type": "stream",
          "name": "stdout",
          "text": [
            "['a', 'd', 'r', 'w', 2, 4, 5, 7, 3, 3]\n"
          ]
        }
      ]
    },
    {
      "cell_type": "markdown",
      "source": [
        "-another way to join two lists by appending all the items from list2 into list1"
      ],
      "metadata": {
        "id": "1M7ko3kMhOn0"
      }
    },
    {
      "cell_type": "code",
      "source": [
        "#example\n",
        "list1 = ['a','b','c','d']\n",
        "list2 =[1,2,3,4,5]\n",
        "\n",
        "for x in list2:\n",
        "  list1.append(x)\n",
        "print(list1)"
      ],
      "metadata": {
        "id": "flpjFhtOhLzc",
        "outputId": "e671c3a1-3b0b-42f2-ddc2-23506dca5457",
        "colab": {
          "base_uri": "https://localhost:8080/"
        }
      },
      "execution_count": 57,
      "outputs": [
        {
          "output_type": "stream",
          "name": "stdout",
          "text": [
            "['a', 'b', 'c', 'd', 1, 2, 3, 4, 5]\n"
          ]
        }
      ]
    },
    {
      "cell_type": "markdown",
      "source": [
        "**use the extend() method**\n",
        "\n",
        "-to add list2 at the end of list1\n",
        ""
      ],
      "metadata": {
        "id": "vMFn056-jY2Z"
      }
    },
    {
      "cell_type": "code",
      "source": [
        "x = ['a','d','r','f']\n",
        "y = [2,4,6,6,7]\n",
        "x.extend(y)\n",
        "print(x)"
      ],
      "metadata": {
        "id": "F1G4tMqmiBSz",
        "outputId": "deb99f9e-1667-47d8-d6db-a11d211fc3c8",
        "colab": {
          "base_uri": "https://localhost:8080/"
        }
      },
      "execution_count": 59,
      "outputs": [
        {
          "output_type": "stream",
          "name": "stdout",
          "text": [
            "['a', 'd', 'r', 'f', 2, 4, 6, 6, 7]\n"
          ]
        }
      ]
    },
    {
      "cell_type": "code",
      "source": [],
      "metadata": {
        "id": "pjOPQGzHj9bH"
      },
      "execution_count": null,
      "outputs": []
    }
  ]
}