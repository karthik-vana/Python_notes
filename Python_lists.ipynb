{
  "nbformat": 4,
  "nbformat_minor": 0,
  "metadata": {
    "colab": {
      "provenance": [],
      "authorship_tag": "ABX9TyMHPseeU3hRjjglYs2G0Gn/",
      "include_colab_link": true
    },
    "kernelspec": {
      "name": "python3",
      "display_name": "Python 3"
    },
    "language_info": {
      "name": "python"
    }
  },
  "cells": [
    {
      "cell_type": "markdown",
      "metadata": {
        "id": "view-in-github",
        "colab_type": "text"
      },
      "source": [
        "<a href=\"https://colab.research.google.com/github/karthik-vana/Python_notes/blob/main/Python_lists.ipynb\" target=\"_parent\"><img src=\"https://colab.research.google.com/assets/colab-badge.svg\" alt=\"Open In Colab\"/></a>"
      ]
    },
    {
      "cell_type": "markdown",
      "source": [
        "**Lists concepts**\n",
        "\n",
        "-lists used to store multiple item in a single variable\n",
        "\n",
        "-lists are one of the 4 built in data types in python ,other three are tuple,set,dictionary\n",
        "\n",
        "-lists are created using sqare brackets\n",
        "\n",
        "-in lists concept memory allocation| slicing | skipping |concepts are similar"
      ],
      "metadata": {
        "id": "JvJJYGlzH2mU"
      }
    },
    {
      "cell_type": "code",
      "execution_count": 3,
      "metadata": {
        "colab": {
          "base_uri": "https://localhost:8080/"
        },
        "id": "tx-l6w2UHw2p",
        "outputId": "44777404-25c8-419f-c497-8b9bfb372293"
      },
      "outputs": [
        {
          "output_type": "stream",
          "name": "stdout",
          "text": [
            "['pavan', 'kiran', 'karthik']\n"
          ]
        }
      ],
      "source": [
        "#let's create a list using square brackets\n",
        "family = ['pavan','kiran','karthik']\n",
        "print(family)"
      ]
    },
    {
      "cell_type": "markdown",
      "source": [
        "**list items**\n",
        "\n",
        "-list items are ordered,changeable,and allow duplicates\n",
        "\n",
        "-list items are indexed,first item is starts from[0],[1],[2],[3],...etc until the values finshed their count in a variable\n"
      ],
      "metadata": {
        "id": "ipyNnvTETGzF"
      }
    },
    {
      "cell_type": "code",
      "source": [
        "#Ordered\n",
        "#Ordered in the sense ,the items have definded order,and will not change\n",
        "#if you add new items to a list, the new items will appear at the end of the list\n",
        "#append - adds element at the end of the list\n",
        "x = ['pavan','kiran','karthik']\n",
        "x.append('vara laxmi')\n",
        "print(x)"
      ],
      "metadata": {
        "colab": {
          "base_uri": "https://localhost:8080/"
        },
        "id": "TOq036WLS14s",
        "outputId": "c2fb297f-db5a-4afa-c501-47d3c6403482"
      },
      "execution_count": 9,
      "outputs": [
        {
          "output_type": "stream",
          "name": "stdout",
          "text": [
            "['pavan', 'kiran', 'karthik', 'vara laxmi']\n"
          ]
        }
      ]
    },
    {
      "cell_type": "code",
      "source": [
        "#extend- adds elements of a list to the  end of the current list\n",
        "x = ['pavan','kiran','karthik']\n",
        "x.extend([10,20])\n",
        "print(x)"
      ],
      "metadata": {
        "colab": {
          "base_uri": "https://localhost:8080/"
        },
        "id": "v9gswxkNWM-9",
        "outputId": "6e9a6c62-1350-4772-d883-957ebc53b9b9"
      },
      "execution_count": 10,
      "outputs": [
        {
          "output_type": "stream",
          "name": "stdout",
          "text": [
            "['pavan', 'kiran', 'karthik', 10, 20]\n"
          ]
        }
      ]
    },
    {
      "cell_type": "code",
      "source": [
        "#insert- adds element at a specific position\n",
        "x = ['pavan','kiran','karthik']\n",
        "x.insert(1,'varalaxmi')\n",
        "print(x)"
      ],
      "metadata": {
        "colab": {
          "base_uri": "https://localhost:8080/"
        },
        "id": "AVg5QQlZZs1-",
        "outputId": "bb57071c-5ee3-4793-e55c-7cfb3b86d6e1"
      },
      "execution_count": 15,
      "outputs": [
        {
          "output_type": "stream",
          "name": "stdout",
          "text": [
            "['pavan', 'varalaxmi', 'kiran', 'karthik']\n"
          ]
        }
      ]
    },
    {
      "cell_type": "code",
      "source": [
        "#clear-removes all elements\n",
        "x = ['pavan','kiran','karthik']\n",
        "x.clear()\n",
        "print(x)"
      ],
      "metadata": {
        "colab": {
          "base_uri": "https://localhost:8080/"
        },
        "id": "b-oMhtW-aEj2",
        "outputId": "3535a41f-1d96-4699-9bc2-50ad4530f243"
      },
      "execution_count": 17,
      "outputs": [
        {
          "output_type": "stream",
          "name": "stdout",
          "text": [
            "[]\n"
          ]
        }
      ]
    },
    {
      "cell_type": "code",
      "source": [
        "#copy -  returns a copy of the list\n",
        "x = ['pavan','kiran','karthik']\n",
        "x.copy()\n",
        "print(x)"
      ],
      "metadata": {
        "colab": {
          "base_uri": "https://localhost:8080/"
        },
        "id": "d-B8SQ6EbDgu",
        "outputId": "45812b10-cf56-4e9a-86d8-53afb5256e23"
      },
      "execution_count": 18,
      "outputs": [
        {
          "output_type": "stream",
          "name": "stdout",
          "text": [
            "['pavan', 'kiran', 'karthik']\n"
          ]
        }
      ]
    },
    {
      "cell_type": "code",
      "source": [
        "# count - returns the no of elements with specific value\n",
        "\n",
        "x =  ['pavan','kiran','karthik','pavan']\n",
        "y= x.count('pavan')\n",
        "print (y)"
      ],
      "metadata": {
        "colab": {
          "base_uri": "https://localhost:8080/"
        },
        "id": "41WGHYahb2Zq",
        "outputId": "3126335a-3753-4b9e-db46-7c066c454443"
      },
      "execution_count": 23,
      "outputs": [
        {
          "output_type": "stream",
          "name": "stdout",
          "text": [
            "2\n"
          ]
        }
      ]
    },
    {
      "cell_type": "code",
      "source": [
        "#index- returns the index of the first element with specific values\n",
        "x = [10,30,20,30]\n",
        "x.index(30)\n",
        "print(x)"
      ],
      "metadata": {
        "colab": {
          "base_uri": "https://localhost:8080/"
        },
        "id": "axmsMPzWcP21",
        "outputId": "606690e5-f76c-4b03-f8bc-71a4816ce242"
      },
      "execution_count": 29,
      "outputs": [
        {
          "output_type": "stream",
          "name": "stdout",
          "text": [
            "[10, 30, 20, 30]\n"
          ]
        }
      ]
    },
    {
      "cell_type": "code",
      "source": [
        "#pop- removes the element at the specific position\n",
        "x =  [10,20,30]\n",
        "x.pop(0)\n",
        "print(x)"
      ],
      "metadata": {
        "colab": {
          "base_uri": "https://localhost:8080/"
        },
        "id": "jyr7fCY-dk4k",
        "outputId": "4c2d8a55-80ed-4204-86d4-34e8667fdf36"
      },
      "execution_count": 30,
      "outputs": [
        {
          "output_type": "stream",
          "name": "stdout",
          "text": [
            "[20, 30]\n"
          ]
        }
      ]
    },
    {
      "cell_type": "code",
      "source": [
        "#remove - remove  the element of the specific value\n",
        "x =  [10,20,30]\n",
        "x.pop(0)\n",
        "\n",
        "print(x)"
      ],
      "metadata": {
        "colab": {
          "base_uri": "https://localhost:8080/"
        },
        "id": "GFc-6YM-d0VA",
        "outputId": "eb0384cc-cfa4-4f1c-e56f-bb71a0efac2f"
      },
      "execution_count": 34,
      "outputs": [
        {
          "output_type": "stream",
          "name": "stdout",
          "text": [
            "[20, 30]\n"
          ]
        }
      ]
    },
    {
      "cell_type": "code",
      "source": [
        "#reverse- reverse the order of list\n",
        "x = [10,20,30]\n",
        "x.reverse()\n",
        "print(x)"
      ],
      "metadata": {
        "colab": {
          "base_uri": "https://localhost:8080/"
        },
        "id": "ehezFxSTfCNR",
        "outputId": "5f8b41db-86dd-465d-c97a-b73a404733a0"
      },
      "execution_count": 35,
      "outputs": [
        {
          "output_type": "stream",
          "name": "stdout",
          "text": [
            "[30, 20, 10]\n"
          ]
        }
      ]
    },
    {
      "cell_type": "code",
      "source": [
        "#sort- sort the list\n",
        "x = [10,20,30,10,20]\n",
        "x.sort\n",
        "print(x)"
      ],
      "metadata": {
        "colab": {
          "base_uri": "https://localhost:8080/"
        },
        "id": "465gaswyg2vl",
        "outputId": "56297104-7e6f-443c-efc7-00a55ad56a33"
      },
      "execution_count": 37,
      "outputs": [
        {
          "output_type": "stream",
          "name": "stdout",
          "text": [
            "[10, 20, 30, 10, 20]\n"
          ]
        }
      ]
    },
    {
      "cell_type": "markdown",
      "source": [
        "**changeable**\n",
        "\n",
        "the list is changeable,meaning that we can change,add,remove, items in the list it has been created\n"
      ],
      "metadata": {
        "id": "of_LhRx4hbT6"
      }
    },
    {
      "cell_type": "code",
      "source": [
        "x = ['pavan','kiran','karthik']\n",
        "x.insert(1,'vara laxmi')\n",
        "print(x)"
      ],
      "metadata": {
        "colab": {
          "base_uri": "https://localhost:8080/"
        },
        "id": "9Hm3Dk77h-2x",
        "outputId": "f51cf22c-932e-455a-bed0-f23a09c3d069"
      },
      "execution_count": 40,
      "outputs": [
        {
          "output_type": "stream",
          "name": "stdout",
          "text": [
            "['pavan', 'vara laxmi', 'kiran', 'karthik']\n"
          ]
        }
      ]
    },
    {
      "cell_type": "code",
      "source": [
        "** allow duplicates**\n"
      ],
      "metadata": {
        "id": "N99QRWNkikB8"
      },
      "execution_count": null,
      "outputs": []
    },
    {
      "cell_type": "markdown",
      "source": [],
      "metadata": {
        "id": "KW8BEFVvhawB"
      }
    },
    {
      "cell_type": "code",
      "source": [],
      "metadata": {
        "id": "yTu4-h3PhLAH"
      },
      "execution_count": null,
      "outputs": []
    }
  ]
}